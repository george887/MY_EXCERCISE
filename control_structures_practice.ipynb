{
 "cells": [
  {
   "cell_type": "code",
   "execution_count": 3,
   "metadata": {},
   "outputs": [
    {
     "name": "stdout",
     "output_type": "stream",
     "text": [
      "What day of the week is it? tuesday\n",
      "Today is tuesday!\n"
     ]
    }
   ],
   "source": [
    "# 1.A. prompt the user for a day of the week, print out whether the day is Monday or not\n",
    "what_day = input(f'What day of the week is it? ')\n",
    "\n",
    "if what_day.lower() == 'monday':\n",
    "    print(\"Today day is Monday.\")\n",
    "else:\n",
    "    print(f'Today is {what_day}!')\n",
    "    "
   ]
  },
  {
   "cell_type": "code",
   "execution_count": null,
   "metadata": {},
   "outputs": [],
   "source": [
    "# 1. B. prompt the user for a day of the week, print out whether the day is a weekday or a weekend\n",
    "day_of_the_week = input(f\"What day of the week is it? \")\n",
    "if day_of_the_week.lower() in [\"saturday\",'sunday']:\n",
    "    print(f\"Today day is {day_of_the_week}. It's the weekend!\")\n",
    "else:\n",
    "    print(f\"Today is {day_of_the_week} and it's not the weekend.\")"
   ]
  },
  {
   "cell_type": "code",
   "execution_count": null,
   "metadata": {},
   "outputs": [],
   "source": [
    "#1.B\n",
    "day = input('What day is it? ')\n",
    "if day.lower() == \"Saturday\" or day.lower() ==\"sunday\":\n",
    "    print(f\"Today is {day}, it's the weekend!\")\n",
    "else:\n",
    "    print(f\"Today is {day}.\")\n",
    "        "
   ]
  },
  {
   "cell_type": "code",
   "execution_count": null,
   "metadata": {},
   "outputs": [],
   "source": [
    "# 2.A 'While' Create an integer variable i with a value of 5. Create a while loop that runs so long as i\n",
    "# is less than or equal to 15 Each loop iteration, output the current value of i, then increment i by one.\n",
    "i = 5\n",
    "while i<= 15:\n",
    "    print(i)\n",
    "    i+=1"
   ]
  },
  {
   "cell_type": "code",
   "execution_count": null,
   "metadata": {},
   "outputs": [],
   "source": [
    "#2.A Using a for loop\n",
    "for i in range(5,16):\n",
    "    print(i)"
   ]
  },
  {
   "cell_type": "code",
   "execution_count": null,
   "metadata": {},
   "outputs": [],
   "source": [
    "# Create a while loop that will count by 2's starting with 0 and ending at 100. Follow each number with a \n",
    "# new line.\n",
    "i = 0\n",
    "while i<=100:\n",
    "    print(i)\n",
    "    i=i+2"
   ]
  },
  {
   "cell_type": "code",
   "execution_count": null,
   "metadata": {},
   "outputs": [],
   "source": [
    "# answered with for loop\n",
    "for i in range(0,101,2):\n",
    "    print(i)\n"
   ]
  },
  {
   "cell_type": "code",
   "execution_count": null,
   "metadata": {},
   "outputs": [],
   "source": [
    "# Alter your loop to count backwards by 5's from 100 to -10.\n",
    "i = 100\n",
    "while i >= -10:\n",
    "    print(i)\n",
    "    i = i-5"
   ]
  },
  {
   "cell_type": "code",
   "execution_count": null,
   "metadata": {},
   "outputs": [],
   "source": [
    "#Using a for loop count backwards by 5's from 100 to -10.\n",
    "for i in range(100,-15,-5):\n",
    "    print(i)"
   ]
  },
  {
   "cell_type": "code",
   "execution_count": 2,
   "metadata": {},
   "outputs": [
    {
     "name": "stdout",
     "output_type": "stream",
     "text": [
      "2\n",
      "4\n",
      "16\n",
      "256\n",
      "65536\n"
     ]
    }
   ],
   "source": [
    "# Create a while loop that starts at 2, and displays the number squared on each line while the number is \n",
    "# less than 1,000,000. Output should equal:\n",
    "i = 2\n",
    "while i <= 1000000:\n",
    "    print(i)\n",
    "    i = i ** 2"
   ]
  },
  {
   "cell_type": "code",
   "execution_count": 5,
   "metadata": {},
   "outputs": [
    {
     "name": "stdout",
     "output_type": "stream",
     "text": [
      "Please enter a number for a multiplication table3\n",
      "3 X 1 = 3\n",
      "3 X 2 = 6\n",
      "3 X 3 = 9\n",
      "3 X 4 = 12\n",
      "3 X 5 = 15\n",
      "3 X 6 = 18\n",
      "3 X 7 = 21\n",
      "3 X 8 = 24\n",
      "3 X 9 = 27\n",
      "3 X 10 = 30\n"
     ]
    }
   ],
   "source": [
    "#2.B. For Loops. Write some code that prompts the user for a number, then shows a multiplication table up \n",
    "# through 10 for that number. \n",
    "number = int(input(\"Please enter a number for a multiplication table\"))\n",
    "for i in range(1,11):\n",
    "    print(number, \"X\", i, \"=\", number*i)"
   ]
  },
  {
   "cell_type": "code",
   "execution_count": 14,
   "metadata": {},
   "outputs": [
    {
     "name": "stdout",
     "output_type": "stream",
     "text": [
      "Please enter a number:e\n",
      "e is not a number. Please enter a number for the multiplication table.\n"
     ]
    }
   ],
   "source": [
    "#2.B. For Loops. Write some code that prompts the user for a number, then shows a multiplication table up \n",
    "# through 10 for that number. \n",
    "number = input(\"Please enter a number: \")\n",
    "if number.isdigit(): \n",
    "    for i in range(1,11):\n",
    "        print(number, \"X\", i, \"=\", number * i)\n",
    "else:\n",
    "    print(f\"{number} is not a number. Please enter a number for the multiplication table.\")\n",
    "#print(f'{i} * {number} = {i * int(number)}') Alt print statement"
   ]
  },
  {
   "cell_type": "code",
   "execution_count": 20,
   "metadata": {},
   "outputs": [
    {
     "name": "stdout",
     "output_type": "stream",
     "text": [
      "1\n",
      "22\n",
      "333\n",
      "4444\n",
      "55555\n",
      "666666\n",
      "7777777\n",
      "88888888\n",
      "999999999\n"
     ]
    }
   ],
   "source": [
    "# Create a for loop that uses print to create the output shown below.\n",
    "for i in range(1,10):\n",
    "    print(str(i) * i)"
   ]
  },
  {
   "cell_type": "code",
   "execution_count": 26,
   "metadata": {},
   "outputs": [
    {
     "name": "stdout",
     "output_type": "stream",
     "text": [
      "Please enter a number between 1 & 50: 2\n",
      "You entered 2. Please eneter a number between 1 and 50.\n",
      "Please enter a number between 1 & 50: 15\n",
      "Here is an odd number 1\n",
      "Here is an odd number 3\n",
      "Here is an odd number 5\n",
      "Here is an odd number 7\n",
      "Here is an odd number 9\n",
      "Here is an odd number 11\n",
      "Here is an odd number 13\n",
      "Yikes! Skipping 15\n",
      "Here is an odd number 17\n",
      "Here is an odd number 19\n",
      "Here is an odd number 21\n",
      "Here is an odd number 23\n",
      "Here is an odd number 25\n",
      "Here is an odd number 27\n",
      "Here is an odd number 29\n",
      "Here is an odd number 31\n",
      "Here is an odd number 33\n",
      "Here is an odd number 35\n",
      "Here is an odd number 37\n",
      "Here is an odd number 39\n",
      "Here is an odd number 41\n",
      "Here is an odd number 43\n",
      "Here is an odd number 45\n",
      "Here is an odd number 47\n",
      "Here is an odd number 49\n"
     ]
    }
   ],
   "source": [
    "# break and continue Prompt the user for an odd number between 1 and 50. Use a loop and a break statement\n",
    "# to continue prompting the user if they enter invalid input. (Hint: use the isdigit method on strings \n",
    "# to determine this). Use a loop and the continue statement to output all the odd numbers between 1 and 50, \n",
    "# except for the number the user entered.\n",
    "number = (input(\"Please enter a number between 1 & 50: \"))\n",
    "for i in range(1,51,2):\n",
    "    #setting conditions if the input is not a number, is even, is less than 1 or greater than 50 to \n",
    "    #prompt entering a correct number\n",
    "    while number.isdigit() == False or int(number) % 2 == 0 or int(number) < 1 or int(number) >50:\n",
    "        print(f\"You entered {number}. Please eneter a number between 1 and 50.\")\n",
    "        number = (input(\"Please enter a number between 1 & 50: \"))\n",
    "        if number.isdigit() == True and int(number) % 2 == 1 and int(number) >= 1 and int(number) <50:\n",
    "            break\n",
    "    if i == int(number):\n",
    "        print(f\"Yikes! Skipping {i}\")\n",
    "        continue\n",
    "    print(\"Here is an odd number\", i)"
   ]
  },
  {
   "cell_type": "code",
   "execution_count": 21,
   "metadata": {},
   "outputs": [
    {
     "name": "stdout",
     "output_type": "stream",
     "text": [
      "Please enter an odd number between 1 & 50:3\n",
      "Here is an odd number 1\n",
      "Yikes! Skipping 3: 3\n",
      "Here is an odd number 5\n",
      "Here is an odd number 7\n",
      "Here is an odd number 9\n",
      "Here is an odd number 11\n",
      "Here is an odd number 13\n",
      "Here is an odd number 15\n",
      "Here is an odd number 17\n",
      "Here is an odd number 19\n",
      "Here is an odd number 21\n",
      "Here is an odd number 23\n",
      "Here is an odd number 25\n",
      "Here is an odd number 27\n",
      "Here is an odd number 29\n",
      "Here is an odd number 31\n",
      "Here is an odd number 33\n",
      "Here is an odd number 35\n",
      "Here is an odd number 37\n",
      "Here is an odd number 39\n",
      "Here is an odd number 41\n",
      "Here is an odd number 43\n",
      "Here is an odd number 45\n",
      "Here is an odd number 47\n",
      "Here is an odd number 49\n"
     ]
    }
   ],
   "source": [
    "number = (input(\"Please enter an odd number between 1 & 50:\"))\n",
    "for i in range(1,51,2):\n",
    "    while number.isdigit() == False or int(number) % 2 == 0 or int(number) < 1 or int(number) > 50:\n",
    "        print(f\"You pick an invalid number {number}. Please pick an odd number between 1 & 50.\")\n",
    "        number = (input(\"Please enter an odd number between 1 & 50:\"))\n",
    "        if number.isdigit() == True or int(number) % 2 == 1 and int(number) >= 1 and int(number) < 50:\n",
    "            print(\"\\n\", number, \"is the number to skip\\n\")\n",
    "            break\n",
    "    if i == int(number):\n",
    "        print(f\"Yikes! Skipping {i}:\",i)\n",
    "        continue\n",
    "    print(\"Here is an odd number\", i)"
   ]
  },
  {
   "cell_type": "code",
   "execution_count": 48,
   "metadata": {},
   "outputs": [
    {
     "name": "stdout",
     "output_type": "stream",
     "text": [
      "what number would you like to go up to? 4\n",
      "\n",
      "Here is your table!\n",
      "\n",
      "number | squared | cubed\n",
      "------------------------\n",
      "   1   |    1    |   1   \n",
      "   2   |    4    |   8   \n",
      "   3   |    9    |  27   \n",
      "   4   |   16    |  64   \n",
      "\n",
      "Would you like to continue?:\t yes\n",
      "what number would you like to go up to? 4\n",
      "\n",
      "Here is your table!\n",
      "\n",
      "number | squared | cubed\n",
      "------------------------\n",
      "   1   |    1    |   1   \n",
      "   2   |    4    |   8   \n",
      "   3   |    9    |  27   \n",
      "   4   |   16    |  64   \n",
      "\n",
      "Would you like to continue?:\t No\n"
     ]
    }
   ],
   "source": [
    "running = True     #Make sure the while loop is running\n",
    "while running:\n",
    "    x = (input('what number would you like to go up to? '))\n",
    "    while x.isdigit() == False:     #Setting up if the user inputed wrong input\n",
    "        number = (input(f'That was not a number {x}. Please input a number: '))\n",
    "        if x.isdigit() == True:\n",
    "            break     #Break out of the loop once the correct input is entered\n",
    "\n",
    "    print('\\nHere is your table!\\n')\n",
    "    print('number | squared | cubed')\n",
    "    print('------------------------')\n",
    "    for x in range(1,int(x)+1):\n",
    "        #This format will add 7 spaces, 9,& 7 centered\n",
    "        print(\"{:^7}|{:^9}|{:^7}\".format(x,x**2,x**3))\n",
    "    \n",
    "    question = input(\"\\nWould you like to continue?:\\t \")\n",
    "    if question.lower() == \"no\":\n",
    "        break\n",
    "    else:\n",
    "        continue\n",
    "\n"
   ]
  },
  {
   "cell_type": "code",
   "execution_count": 59,
   "metadata": {},
   "outputs": [
    {
     "name": "stdout",
     "output_type": "stream",
     "text": [
      "Please enter the grade.\t4\n",
      "You received a F with a 4.\n",
      "\n",
      "Would you like to continue?:\t no\n"
     ]
    }
   ],
   "source": [
    "# 5 Convert given number grades into letter grades. Prompt the user for a numerical grade from 0 to 100.\n",
    "# Display the corresponding letter grade. Prompt the user to continue. Assume that the user will enter valid \n",
    "# integers for the grades. The application should only continue if the user agrees to.\n",
    "# Grade Ranges:\n",
    "\n",
    "# A : 100 - 88\n",
    "# B : 87 - 80\n",
    "# C : 79 - 67\n",
    "# D : 66 - 60\n",
    "# F : 59 - 0\n",
    "running = True\n",
    "while running:\n",
    "    grade = int(input(\"Please enter the grade.\\t\"))\n",
    "    if grade <= 100 and grade >= 88:\n",
    "        print(f\"You received a A with a {grade}.\")\n",
    "    elif grade <=87 and grade >= 80:\n",
    "        print(f\"You received a B with a {grade}.\")\n",
    "    elif grade <=79 and grade >= 67:\n",
    "        print(f\"You received a C with a {grade}.\")\n",
    "    elif grade <=66 and grade >= 60:\n",
    "        print(f\"You received a D with a {grade}.\")\n",
    "    elif grade <=59 and grade >= 0:\n",
    "        print(f\"You received a F with a {grade}.\")\n",
    "    else:\n",
    "        print(f\"The grade {grade} is not a grade.\")\n",
    "    question = input(\"\\nWould you like to continue?:\\t \")\n",
    "    if question.lower() == \"no\":\n",
    "        break\n",
    "    else:\n",
    "        continue   "
   ]
  },
  {
   "cell_type": "code",
   "execution_count": 60,
   "metadata": {},
   "outputs": [
    {
     "name": "stdout",
     "output_type": "stream",
     "text": [
      "{'Title': 'Childrens Everyday Bible', 'Author': 'Deborah Chancellor', 'Genre': 'Biblical'}\n",
      "{'Title': 'Mr. Brown can Moo! Can You?', 'Author': 'Dr. Seuss', 'Genre': 'Childrens Fiction'}\n",
      "{'Title': 'Start With Why', 'Author': 'Simon Sinek', 'Genre': 'Self Help Book'}\n",
      "Enter a genre Biblical\n",
      "Childrens Everyday Bible Falls under the genre of Biblical\n"
     ]
    }
   ],
   "source": [
    "# Create a list of dictionaries where each dictionary represents a book that you have \n",
    "# read. Each dictionary in the list should have the keys title, author, and genre. \n",
    "# Loop through the list and print out information about each book.\n",
    "\n",
    "# Prompt the user to enter a genre, then loop through your books list and print out the\n",
    "# titles of all the books in that genre.\n",
    "Books = [\n",
    "    {\"Title\": \"Childrens Everyday Bible\",\n",
    "          \"Author\": \"Deborah Chancellor\",\n",
    "          \"Genre\": \"Biblical\"\n",
    "         }, \n",
    "        {\n",
    "            \"Title\": \"Mr. Brown can Moo! Can You?\",\n",
    "          \"Author\": \"Dr. Seuss\",\n",
    "          \"Genre\": \"Childrens Fiction\"\n",
    "        },\n",
    "        {\n",
    "            \"Title\": \"Start With Why\",\n",
    "          \"Author\": \"Simon Sinek\",\n",
    "          \"Genre\": \"Self Help Book\"\n",
    "        }]\n",
    "for Title in Books:\n",
    "    print(Title)\n",
    "\n",
    "prompt = input(\"Enter a genre \")\n",
    "#list comp, use ['Genre'] to access each genre in books. Making a while loop when the user enters a wrong genre\n",
    "while prompt not in [x['Genre'] for x in Books]:\n",
    "    prompt = input('Please enter a new genre as the specified one is not in this dictionary: ')\n",
    "    if prompt in [x['Genre'] for x in Books]:\n",
    "        break\n",
    "for x in Books:\n",
    "    if prompt == x['Genre']:\n",
    "        #This format allows for two inputs with {}. x['Title'] for title in dictionary and , prompt genre \n",
    "        print(\"{} Falls under the genre of {}\".format(x['Title'], prompt))"
   ]
  },
  {
   "cell_type": "code",
   "execution_count": null,
   "metadata": {},
   "outputs": [],
   "source": []
  }
 ],
 "metadata": {
  "kernelspec": {
   "display_name": "Python 3",
   "language": "python",
   "name": "python3"
  },
  "language_info": {
   "codemirror_mode": {
    "name": "ipython",
    "version": 3
   },
   "file_extension": ".py",
   "mimetype": "text/x-python",
   "name": "python",
   "nbconvert_exporter": "python",
   "pygments_lexer": "ipython3",
   "version": "3.7.6"
  }
 },
 "nbformat": 4,
 "nbformat_minor": 4
}
