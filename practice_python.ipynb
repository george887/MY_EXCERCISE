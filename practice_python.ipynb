{
 "cells": [
  {
   "cell_type": "code",
   "execution_count": 25,
   "metadata": {},
   "outputs": [
    {
     "name": "stdout",
     "output_type": "stream",
     "text": [
      "Exercise 17 is correct.\n"
     ]
    }
   ],
   "source": [
    "# Exercise 17\n",
    "# Write a function definition named is_positive_odd that takes in a number and returns True or False if the value is both greater than zero and odd\n",
    "def is_positive_odd(number):\n",
    "    if number > 0 and number % 2 == 1:\n",
    "        return True\n",
    "\n",
    "assert is_positive_odd(3) == True, \"Double check your syntax and logic\" \n",
    "\n",
    "print(\"Exercise 17 is correct.\")"
   ]
  },
  {
   "cell_type": "code",
   "execution_count": 28,
   "metadata": {},
   "outputs": [
    {
     "name": "stdout",
     "output_type": "stream",
     "text": [
      "Exercise 18 is correct.\n"
     ]
    }
   ],
   "source": [
    "# Exercise 18\n",
    "# Write a function definition named is_positive_even that takes in a number and returns True or False if the \n",
    "# value is both greater than zero and even\n",
    "def is_positive_even(number):\n",
    "    if number > 0 and number % 2 == 0:\n",
    "        return True\n",
    "assert is_positive_even(4) == True, \"Double check your syntax and logic\" \n",
    "print(\"Exercise 18 is correct.\")"
   ]
  },
  {
   "cell_type": "code",
   "execution_count": null,
   "metadata": {},
   "outputs": [],
   "source": [
    "# Exercise 21\n",
    "# Write a function definition named half that takes in a number and returns half the provided number.\n",
    "def half(number):\n",
    "    number = number / 2\n",
    "\n",
    "assert half(4) == 2\n",
    "assert half(5) == 2.5\n",
    "assert half(positive_odd_number) == positive_odd_number / 2\n",
    "assert half(positive_even_number) == positive_even_number / 2\n",
    "assert half(negative_odd_number) == negative_odd_number / 2\n",
    "assert half(negative_even_number) == negative_even_number / 2\n",
    "print(\"Exercise 21 is correct.\")"
   ]
  },
  {
   "cell_type": "code",
   "execution_count": 1,
   "metadata": {},
   "outputs": [
    {
     "data": {
      "text/plain": [
       "27"
      ]
     },
     "execution_count": 1,
     "metadata": {},
     "output_type": "execute_result"
    }
   ],
   "source": [
    "# You have rented some movies for your kids: The little mermaid (for 3 days), Brother Bear (for 5 days, they \n",
    "# love it), and Hercules (1 day, you don't know yet if they're going to like it). If price for a movie per \n",
    "# day is 3 dollars, how much will you have to pay?\n",
    "\n",
    "#How many days rented\n",
    "movie1 = 3\n",
    "movie2 = 5\n",
    "movie3 = 1\n",
    "price = 3\n",
    "pay = price * (movie1 + movie2 + movie3)\n",
    "pay"
   ]
  },
  {
   "cell_type": "code",
   "execution_count": 3,
   "metadata": {},
   "outputs": [
    {
     "data": {
      "text/plain": [
       "7420"
      ]
     },
     "execution_count": 3,
     "metadata": {},
     "output_type": "execute_result"
    }
   ],
   "source": [
    "# Suppose you're working as a contractor for 3 companies: Google, Amazon and Facebook, they pay you a different rate\n",
    "# per hour. Google pays 400 dollars per hour, Amazon 380, and Facebook 350. How much will you receive in payment \n",
    "# for this week? You worked 10 hours for Facebook, 6 hours for Google and 4 hours for Amazon.\n",
    "\n",
    "g_rate = 400\n",
    "a_rate = 380\n",
    "fb_rate = 350\n",
    "hrs_f = 10\n",
    "hrs_g = 6\n",
    "hrs_a = 4\n",
    "payment = (g_rate * hrs_g) + (a_rate * hrs_a) + (fb_rate * hrs_f)\n",
    "payment"
   ]
  },
  {
   "cell_type": "code",
   "execution_count": 6,
   "metadata": {},
   "outputs": [
    {
     "data": {
      "text/plain": [
       "True"
      ]
     },
     "execution_count": 6,
     "metadata": {},
     "output_type": "execute_result"
    }
   ],
   "source": [
    "# A student can be enrolled to a class only if the class is not full and the class schedule does not conflict with \n",
    "# her current schedule.\n",
    "not_full = True\n",
    "schedule_confilict = True\n",
    "enrollment = not_full and schedule_confilict\n",
    "enrollment"
   ]
  },
  {
   "cell_type": "code",
   "execution_count": 8,
   "metadata": {},
   "outputs": [
    {
     "data": {
      "text/plain": [
       "True"
      ]
     },
     "execution_count": 8,
     "metadata": {},
     "output_type": "execute_result"
    }
   ],
   "source": [
    "# A product offer can be applied only if people buys more than 2 items, and the offer has not expired. Premium \n",
    "# members do not need to buy a specific amount of products.\n",
    "buys_more_than_2 = True\n",
    "offer_code_valid = True\n",
    "premium_mem = False\n",
    "product_offer = buys_more_than_2 and offer_code_valid or premium_mem\n",
    "product_offer"
   ]
  },
  {
   "cell_type": "code",
   "execution_count": 13,
   "metadata": {},
   "outputs": [
    {
     "data": {
      "text/plain": [
       "True"
      ]
     },
     "execution_count": 13,
     "metadata": {},
     "output_type": "execute_result"
    }
   ],
   "source": [
    "# Create a variable that holds a boolean value for each of the following conditions:\n",
    "# the password must be at least 5 characters\n",
    "# the username must be no more than 20 characters\n",
    "# the password must not be the same as the username\n",
    "# bonus neither the username or password can start or end with whitespace\n",
    "username = 'codeup'\n",
    "password = 'notastrongpassword'\n",
    "password_valid = (len(password) >= 5) and (len(username) <= 20) and password != username\n",
    "password_valid\n",
    "#Bonus\n",
    "valid_user_pass = (len(password) >= 5) and (len(username) <= 20) and password != username and username[0] != ' ' and username[-1] != ' ' and password[0] != ' ' and password[-1] != ' '\n",
    "valid_user_pass"
   ]
  },
  {
   "cell_type": "code",
   "execution_count": 178,
   "metadata": {},
   "outputs": [
    {
     "data": {
      "text/plain": [
       "['MANGO', 'KIWI', 'STRAWBERRY', 'GUAVA', 'PINEAPPLE', 'MANDARIN ORANGE']"
      ]
     },
     "execution_count": 178,
     "metadata": {},
     "output_type": "execute_result"
    }
   ],
   "source": [
    " # Exercise 1 - rewrite the above example code using list comprehension syntax. Make a variable named \n",
    "# uppercased_fruits to hold the output of the list comprehension. Output should be ['MANGO', 'KIWI', etc...]\n",
    "fruits = ['mango', 'kiwi', 'strawberry', 'guava', 'pineapple', 'mandarin orange']\n",
    "\n",
    "uppercased_fruits = [x.upper() for x in fruits]\n",
    "uppercased_fruits\n",
    "\n",
    "list = []\n",
    "for fruit in fruits:\n",
    "    list.append(fruit.upper())\n",
    "list"
   ]
  },
  {
   "cell_type": "code",
   "execution_count": 26,
   "metadata": {},
   "outputs": [
    {
     "data": {
      "text/plain": [
       "['Mango', 'Kiwi', 'Strawberry', 'Guava', 'Pineapple', 'Mandarin orange']"
      ]
     },
     "execution_count": 26,
     "metadata": {},
     "output_type": "execute_result"
    }
   ],
   "source": [
    "# Exercise 2 - create a variable named capitalized_fruits and use list comprehension syntax to produce output like \n",
    "# ['Mango', 'Kiwi', 'Strawberry', etc...]\n",
    "fruits = ['mango', 'kiwi', 'strawberry', 'guava', 'pineapple', 'mandarin orange']\n",
    "capitalized_fruits = []\n",
    "for fruit in fruits:\n",
    "    capitalized_fruits.append(fruit.capitalize())\n",
    "capitalized_fruits\n"
   ]
  },
  {
   "cell_type": "code",
   "execution_count": 34,
   "metadata": {},
   "outputs": [
    {
     "data": {
      "text/plain": [
       "['maNgo', 'kiWi', 'stRawberry', 'guAva', 'piNeapple', 'maNdarin orange']"
      ]
     },
     "execution_count": 34,
     "metadata": {},
     "output_type": "execute_result"
    }
   ],
   "source": [
    "# Every third letter to be capitalized\n",
    "fruits = ['mango', 'kiwi', 'strawberry', 'guava', 'pineapple', 'mandarin orange']\n",
    "\n",
    "[fruit[0:2] + fruit[2].capitalize() + fruit[3:] for fruit in fruits]\n",
    "    \n"
   ]
  },
  {
   "cell_type": "code",
   "execution_count": 59,
   "metadata": {},
   "outputs": [
    {
     "data": {
      "text/plain": [
       "['mango', 'kiwi', 'strawberry', 'guava', 'pineapple', 'mandarin orange']"
      ]
     },
     "execution_count": 59,
     "metadata": {},
     "output_type": "execute_result"
    }
   ],
   "source": [
    "# Exercise 3 - Use a list comprehension to make a variable named fruits_with_more_than_two_vowels. Hint: You'll \n",
    "# need a way to check if something is a vowel.\n",
    "fruits = ['mango', 'kiwi', 'strawberry', 'guava', 'pineapple', 'mandarin orange']\n",
    "\n",
    "fruits_with_at_least_two_vowels = [fruit for fruit in fruits if (\n",
    "fruit.count('a') +\n",
    "fruit.count('e') + \n",
    "fruit.count('i') + \n",
    "fruit.count('o') + \n",
    "fruit.count('u')) >= 2]\n",
    "fruits_with_at_least_two_vowels"
   ]
  },
  {
   "cell_type": "code",
   "execution_count": 60,
   "metadata": {},
   "outputs": [
    {
     "data": {
      "text/plain": [
       "['mango', 'kiwi', 'strawberry']"
      ]
     },
     "execution_count": 60,
     "metadata": {},
     "output_type": "execute_result"
    }
   ],
   "source": [
    "# Exercise 4 - make a variable named fruits_with_only_two_vowels. The result should be ['mango', 'kiwi', 'strawberry']\n",
    "fruits = ['mango', 'kiwi', 'strawberry', 'guava', 'pineapple', 'mandarin orange']\n",
    "fruits_with_only_two_vowels = [fruit for fruit in fruits if (\n",
    "fruit.count('a') +\n",
    "fruit.count('e') + \n",
    "fruit.count('i') + \n",
    "fruit.count('o') + \n",
    "fruit.count('u')) == 2]\n",
    "fruits_with_only_two_vowels"
   ]
  },
  {
   "cell_type": "code",
   "execution_count": 62,
   "metadata": {},
   "outputs": [
    {
     "data": {
      "text/plain": [
       "['strawberry', 'pineapple', 'mandarin orange']"
      ]
     },
     "execution_count": 62,
     "metadata": {},
     "output_type": "execute_result"
    }
   ],
   "source": [
    "# Exercise 5 - make a list that contains each fruit with more than 5 characters\n",
    "fruits = ['mango', 'kiwi', 'strawberry', 'guava', 'pineapple', 'mandarin orange']\n",
    "fruit_w_more_than_5 = [fruit for fruit in fruits if len(fruit) > 5]\n",
    "fruit_w_more_than_5"
   ]
  },
  {
   "cell_type": "code",
   "execution_count": 64,
   "metadata": {},
   "outputs": [
    {
     "data": {
      "text/plain": [
       "['mango', 'guava']"
      ]
     },
     "execution_count": 64,
     "metadata": {},
     "output_type": "execute_result"
    }
   ],
   "source": [
    "# Exercise 6 - make a list that contains each fruit with exactly 5 characters\n",
    "fruits = ['mango', 'kiwi', 'strawberry', 'guava', 'pineapple', 'mandarin orange']\n",
    "fruit_w_5_chars = [fruit for fruit in fruits if len(fruit) == 5]\n",
    "fruit_w_5_chars"
   ]
  },
  {
   "cell_type": "code",
   "execution_count": 67,
   "metadata": {},
   "outputs": [
    {
     "data": {
      "text/plain": [
       "['kiwi']"
      ]
     },
     "execution_count": 67,
     "metadata": {},
     "output_type": "execute_result"
    }
   ],
   "source": [
    "# Exercise 7 - Make a list that contains fruits that have less than 5 characters\n",
    "fruits = ['mango', 'kiwi', 'strawberry', 'guava', 'pineapple', 'mandarin orange']\n",
    "fruit_w_less5_chars = [fruit for fruit in fruits if len(fruit) < 5]\n",
    "fruit_w_less5_chars"
   ]
  },
  {
   "cell_type": "code",
   "execution_count": 69,
   "metadata": {},
   "outputs": [
    {
     "data": {
      "text/plain": [
       "[5, 4, 10, 5, 9, 15]"
      ]
     },
     "execution_count": 69,
     "metadata": {},
     "output_type": "execute_result"
    }
   ],
   "source": [
    "# Exercise 8 - Make a list containing the number of characters in each fruit. Output would be [5, 4, 10, etc... ]\n",
    "fruits = ['mango', 'kiwi', 'strawberry', 'guava', 'pineapple', 'mandarin orange']\n",
    "char_length = [len(fruit) for fruit in fruits]\n",
    "char_length"
   ]
  },
  {
   "cell_type": "code",
   "execution_count": 70,
   "metadata": {},
   "outputs": [
    {
     "data": {
      "text/plain": [
       "['mango', 'strawberry', 'guava', 'pineapple', 'mandarin orange']"
      ]
     },
     "execution_count": 70,
     "metadata": {},
     "output_type": "execute_result"
    }
   ],
   "source": [
    "# Exercise 9 - Make a variable named fruits_with_letter_a that contains a list of only the\n",
    "# fruits that contain the letter \"a\"\n",
    "fruits = ['mango', 'kiwi', 'strawberry', 'guava', 'pineapple', 'mandarin orange']\n",
    "fruits_with_letter_a = [fruit for fruit in fruits if \"a\" in fruit]\n",
    "fruits_with_letter_a"
   ]
  },
  {
   "cell_type": "code",
   "execution_count": 71,
   "metadata": {},
   "outputs": [
    {
     "data": {
      "text/plain": [
       "[2, 4, 6, 8, 10, 256, -8, -4, -2]"
      ]
     },
     "execution_count": 71,
     "metadata": {},
     "output_type": "execute_result"
    }
   ],
   "source": [
    "# Exercise 10 - Make a variable named even_numbers that holds only the even numbers \n",
    "numbers = [2, 3, 4, 5, 6, 7, 8, 9, 10, 11, 13, 17, 19, 23, 256, -8, -4, -2, 5, -9]\n",
    "even_numbers = [num for num in numbers if num % 2 ==0 ]\n",
    "even_numbers"
   ]
  },
  {
   "cell_type": "code",
   "execution_count": 73,
   "metadata": {},
   "outputs": [
    {
     "data": {
      "text/plain": [
       "[3, 5, 7, 9, 11, 13, 17, 19, 23, 5, -9]"
      ]
     },
     "execution_count": 73,
     "metadata": {},
     "output_type": "execute_result"
    }
   ],
   "source": [
    "# Exercise 11 - Make a variable named odd_numbers that holds only the odd numbers\n",
    "numbers = [2, 3, 4, 5, 6, 7, 8, 9, 10, 11, 13, 17, 19, 23, 256, -8, -4, -2, 5, -9]\n",
    "odd_numbers = [num for num in numbers if num % 2 == 1 ]\n",
    "odd_numbers"
   ]
  },
  {
   "cell_type": "code",
   "execution_count": 74,
   "metadata": {},
   "outputs": [
    {
     "data": {
      "text/plain": [
       "[2, 3, 4, 5, 6, 7, 8, 9, 10, 11, 13, 17, 19, 23, 256, 5]"
      ]
     },
     "execution_count": 74,
     "metadata": {},
     "output_type": "execute_result"
    }
   ],
   "source": [
    "# Exercise 12 - Make a variable named positive_numbers that holds only the positive numbers\n",
    "numbers = [2, 3, 4, 5, 6, 7, 8, 9, 10, 11, 13, 17, 19, 23, 256, -8, -4, -2, 5, -9]\n",
    "positive_number = [num for num in numbers if num > 0 ]\n",
    "positive_number"
   ]
  },
  {
   "cell_type": "code",
   "execution_count": 75,
   "metadata": {},
   "outputs": [
    {
     "data": {
      "text/plain": [
       "[-8, -4, -2, -9]"
      ]
     },
     "execution_count": 75,
     "metadata": {},
     "output_type": "execute_result"
    }
   ],
   "source": [
    "# Exercise 13 - Make a variable named negative_numbers that holds only the negative numbers\n",
    "numbers = [2, 3, 4, 5, 6, 7, 8, 9, 10, 11, 13, 17, 19, 23, 256, -8, -4, -2, 5, -9]\n",
    "negative_number = [num for num in numbers if len(num) >= 0]\n",
    "negative_number"
   ]
  },
  {
   "cell_type": "code",
   "execution_count": 83,
   "metadata": {},
   "outputs": [
    {
     "data": {
      "text/plain": [
       "[10, 11, 13, 17, 19, 23, 256]"
      ]
     },
     "execution_count": 83,
     "metadata": {},
     "output_type": "execute_result"
    }
   ],
   "source": [
    "# Exercise 14 - use a list comprehension w/ a conditional in order to produce a list of numbers with 2 or more numerals\n",
    "numbers = [2, 3, 4, 5, 6, 7, 8, 9, 10, 11, 13, 17, 19, 23, 256, -8, -4, -2, 5, -9]\n",
    "at_least_two_numerals = [num for num in numbers if num >= 10 or num < -10]\n",
    "at_least_two_numerals"
   ]
  },
  {
   "cell_type": "code",
   "execution_count": 84,
   "metadata": {},
   "outputs": [
    {
     "data": {
      "text/plain": [
       "[4,\n",
       " 9,\n",
       " 16,\n",
       " 25,\n",
       " 36,\n",
       " 49,\n",
       " 64,\n",
       " 81,\n",
       " 100,\n",
       " 121,\n",
       " 169,\n",
       " 289,\n",
       " 361,\n",
       " 529,\n",
       " 65536,\n",
       " 64,\n",
       " 16,\n",
       " 4,\n",
       " 25,\n",
       " 81]"
      ]
     },
     "execution_count": 84,
     "metadata": {},
     "output_type": "execute_result"
    }
   ],
   "source": [
    "# Exercise 15 - Make a variable named numbers_squared that contains the numbers list with each element squared. Output is [4, 9, 16, etc...]\n",
    "numbers = [2, 3, 4, 5, 6, 7, 8, 9, 10, 11, 13, 17, 19, 23, 256, -8, -4, -2, 5, -9]\n",
    "numbers_squared = [num**2 for num in numbers ]\n",
    "numbers_squared\n"
   ]
  },
  {
   "cell_type": "code",
   "execution_count": 91,
   "metadata": {},
   "outputs": [
    {
     "name": "stdout",
     "output_type": "stream",
     "text": [
      "What day of the week is it?\n",
      "Today is not Monday\n"
     ]
    }
   ],
   "source": [
    "# 1.A. prompt the user for a day of the week, print out whether the day is Monday or not\n",
    "what_day = input(f\"What day of the week is it?\")\n",
    "\n",
    "if what_day.lower() == \"monday\":\n",
    "    print(\"Today is Monday\")\n",
    "else:\n",
    "    print(\"Today is not Monday\")\n"
   ]
  },
  {
   "cell_type": "code",
   "execution_count": 102,
   "metadata": {},
   "outputs": [
    {
     "name": "stdout",
     "output_type": "stream",
     "text": [
      "What day of the week is it?saturday\n",
      "Today is saturday on the weekend\n"
     ]
    }
   ],
   "source": [
    "# 1. B. prompt the user for a day of the week, print out whether the day is a weekday or a weekend\n",
    "day_of_week = input(f\"What day of the week is it?\")\n",
    "if day_of_week.lower() in [\"saturday\", \"sunday\"]:\n",
    "    print(f\"Today is {day_of_week} on the weekend\")\n",
    "else:\n",
    "    print(f\"Today is {day_of_week} a weekday\")\n",
    "\n",
    "        \n"
   ]
  },
  {
   "cell_type": "code",
   "execution_count": 106,
   "metadata": {},
   "outputs": [
    {
     "name": "stdout",
     "output_type": "stream",
     "text": [
      "1470.0\n"
     ]
    }
   ],
   "source": [
    "#1 C. create variables and make up values for \n",
    "# the number of hours worked in one week\n",
    "# the hourly rate\n",
    "# how much the week's paycheck will be\n",
    "# write the python code that calculates the weekly paycheck. \n",
    "# You get paid time and a half if you work more than 40 hours\n",
    "\n",
    "hrs_worked_in_week = 45\n",
    "hourly_rate = 28\n",
    "ot_hrs_worked = hrs_worked_in_week - 40\n",
    "ot_rate = 28 * 1.5\n",
    "paycheck = hrs_worked_in_week * hourly_rate\n",
    "otpay = (ot_hrs_worked * ot_rate) + paycheck\n",
    "\n",
    "if hrs_worked_in_week <= 40:\n",
    "    print(paycheck)\n",
    "else:\n",
    "    print(otpay)\n",
    "\n",
    "    "
   ]
  },
  {
   "cell_type": "code",
   "execution_count": 109,
   "metadata": {},
   "outputs": [
    {
     "name": "stdout",
     "output_type": "stream",
     "text": [
      "5\n",
      "6\n",
      "7\n",
      "8\n",
      "9\n",
      "10\n",
      "11\n",
      "12\n",
      "13\n",
      "14\n",
      "15\n"
     ]
    }
   ],
   "source": [
    "# 2.A 'While' Create an integer variable i with a value of 5. Create a while loop that runs so long as i\n",
    "# is less than or equal to 15 Each loop iteration, output the current value of i, then increment i by one.\n",
    "i = 5\n",
    "while i <= 15:\n",
    "    print(i)\n",
    "    i = i + 1\n"
   ]
  },
  {
   "cell_type": "code",
   "execution_count": 111,
   "metadata": {},
   "outputs": [
    {
     "name": "stdout",
     "output_type": "stream",
     "text": [
      "5\n",
      "6\n",
      "7\n",
      "8\n",
      "9\n",
      "10\n",
      "11\n",
      "12\n",
      "13\n",
      "14\n",
      "15\n"
     ]
    }
   ],
   "source": [
    "for i in range(5,16):\n",
    "    print(i)"
   ]
  },
  {
   "cell_type": "code",
   "execution_count": 113,
   "metadata": {},
   "outputs": [
    {
     "name": "stdout",
     "output_type": "stream",
     "text": [
      "0\n",
      "2\n",
      "4\n",
      "6\n",
      "8\n",
      "10\n",
      "12\n",
      "14\n",
      "16\n",
      "18\n",
      "20\n",
      "22\n",
      "24\n",
      "26\n",
      "28\n",
      "30\n",
      "32\n",
      "34\n",
      "36\n",
      "38\n",
      "40\n",
      "42\n",
      "44\n",
      "46\n",
      "48\n",
      "50\n",
      "52\n",
      "54\n",
      "56\n",
      "58\n",
      "60\n",
      "62\n",
      "64\n",
      "66\n",
      "68\n",
      "70\n",
      "72\n",
      "74\n",
      "76\n",
      "78\n",
      "80\n",
      "82\n",
      "84\n",
      "86\n",
      "88\n",
      "90\n",
      "92\n",
      "94\n",
      "96\n",
      "98\n",
      "100\n"
     ]
    }
   ],
   "source": [
    "# Create a while loop that will count by 2's starting with 0 and ending at 100. Follow each number with a \n",
    "# new line.\n",
    "i = 0\n",
    "while i <= 100:\n",
    "    print(i)\n",
    "    i = i + 2\n",
    "# Solved with for\n",
    "for i in range(0, 101, 2):\n",
    "    print(i)"
   ]
  },
  {
   "cell_type": "code",
   "execution_count": null,
   "metadata": {},
   "outputs": [],
   "source": [
    "# Alter your loop to count backwards by 5's from 100 to -10.\n",
    "i = 100\n",
    "while i >= -10:\n",
    "    print(i)\n",
    "    i = i - 5\n",
    "# with for\n",
    "for i in reversed(range(-10, 105, 5)):\n",
    "    print(i)"
   ]
  },
  {
   "cell_type": "code",
   "execution_count": 115,
   "metadata": {
    "scrolled": true
   },
   "outputs": [
    {
     "name": "stdout",
     "output_type": "stream",
     "text": [
      "Please enter a number between 1 & 9: 3\n",
      "3 x 1 = 3\n",
      "3 x 2 = 6\n",
      "3 x 3 = 9\n",
      "3 x 4 = 12\n",
      "3 x 5 = 15\n",
      "3 x 6 = 18\n",
      "3 x 7 = 21\n",
      "3 x 8 = 24\n",
      "3 x 9 = 27\n",
      "3 x 10 = 30\n"
     ]
    }
   ],
   "source": [
    "#2.B. For Loops. Write some code that prompts the user for a number, then shows a multiplication table up \n",
    "# through 10 for that number. \n",
    "number = int(input(\"Please enter a number between 1 & 9: \"))\n",
    "for i in range(1,11):\n",
    "    print(number, \"x\", i, \"=\", number * i)"
   ]
  },
  {
   "cell_type": "code",
   "execution_count": 120,
   "metadata": {},
   "outputs": [
    {
     "name": "stdout",
     "output_type": "stream",
     "text": [
      "1\n",
      "22\n",
      "333\n",
      "4444\n",
      "55555\n",
      "666666\n",
      "7777777\n",
      "88888888\n",
      "999999999\n"
     ]
    }
   ],
   "source": [
    "# Create a for loop that uses print to create the output shown below.\n",
    "for i in range(1,10):\n",
    "    print(str(i)*i)"
   ]
  },
  {
   "cell_type": "code",
   "execution_count": 124,
   "metadata": {},
   "outputs": [
    {
     "name": "stdout",
     "output_type": "stream",
     "text": [
      "Please enter a number between 1 & 50: 3\n",
      "3 is the number to skip\n",
      "\n",
      "1 is an odd number\n",
      "Yikes! 3 is the number to skip\n",
      "5 is an odd number\n",
      "7 is an odd number\n",
      "9 is an odd number\n",
      "11 is an odd number\n",
      "13 is an odd number\n",
      "15 is an odd number\n",
      "17 is an odd number\n",
      "19 is an odd number\n",
      "21 is an odd number\n",
      "23 is an odd number\n",
      "25 is an odd number\n",
      "27 is an odd number\n",
      "29 is an odd number\n",
      "31 is an odd number\n",
      "33 is an odd number\n",
      "35 is an odd number\n",
      "37 is an odd number\n",
      "39 is an odd number\n",
      "41 is an odd number\n",
      "43 is an odd number\n",
      "45 is an odd number\n",
      "47 is an odd number\n",
      "49 is an odd number\n"
     ]
    }
   ],
   "source": [
    "# break and continue Prompt the user for an odd number between 1 and 50. Use a loop and a break statement\n",
    "# to continue prompting the user if they enter invalid input. (Hint: use the isdigit method on strings \n",
    "# to determine this). Use a loop and the continue statement to output all the odd numbers between 1 and 50, \n",
    "# except for the number the user entered.\n",
    "number = input(\"Please enter a number between 1 & 50: \")\n",
    "\n",
    "while True:\n",
    "    if number.isdigit():\n",
    "        number = int(number)\n",
    "        if number % 2 == 1 and number > 1 and number < 50:\n",
    "            break\n",
    "        else:\n",
    "            print(\"Please enter a valid number between 1 & 50\")\n",
    "else:\n",
    "    print(\"Please enter a numeral\")\n",
    "\n",
    "print(f\"{number} is the number to skip\")\n",
    "print()\n",
    "for i in range(1,50,2):\n",
    "    if i == number:\n",
    "        print(f\"Yikes! {number} is the number to skip\")\n",
    "        continue\n",
    "    print(f\"{i} is an odd number\")\n"
   ]
  },
  {
   "cell_type": "code",
   "execution_count": 125,
   "metadata": {},
   "outputs": [
    {
     "name": "stdout",
     "output_type": "stream",
     "text": [
      "Here is a number 1\n",
      "Here is a number 2\n",
      "Fizz\n",
      "Here is a number 4\n",
      "Buzz\n",
      "Fizz\n",
      "Here is a number 7\n",
      "Here is a number 8\n",
      "Fizz\n",
      "Buzz\n",
      "Here is a number 11\n",
      "Fizz\n",
      "Here is a number 13\n",
      "Here is a number 14\n",
      "Fizzbuzz\n",
      "Here is a number 16\n",
      "Here is a number 17\n",
      "Fizz\n",
      "Here is a number 19\n",
      "Buzz\n",
      "Fizz\n",
      "Here is a number 22\n",
      "Here is a number 23\n",
      "Fizz\n",
      "Buzz\n",
      "Here is a number 26\n",
      "Fizz\n",
      "Here is a number 28\n",
      "Here is a number 29\n",
      "Fizzbuzz\n",
      "Here is a number 31\n",
      "Here is a number 32\n",
      "Fizz\n",
      "Here is a number 34\n",
      "Buzz\n",
      "Fizz\n",
      "Here is a number 37\n",
      "Here is a number 38\n",
      "Fizz\n",
      "Buzz\n",
      "Here is a number 41\n",
      "Fizz\n",
      "Here is a number 43\n",
      "Here is a number 44\n",
      "Fizzbuzz\n",
      "Here is a number 46\n",
      "Here is a number 47\n",
      "Fizz\n",
      "Here is a number 49\n",
      "Buzz\n",
      "Fizz\n",
      "Here is a number 52\n",
      "Here is a number 53\n",
      "Fizz\n",
      "Buzz\n",
      "Here is a number 56\n",
      "Fizz\n",
      "Here is a number 58\n",
      "Here is a number 59\n",
      "Fizzbuzz\n",
      "Here is a number 61\n",
      "Here is a number 62\n",
      "Fizz\n",
      "Here is a number 64\n",
      "Buzz\n",
      "Fizz\n",
      "Here is a number 67\n",
      "Here is a number 68\n",
      "Fizz\n",
      "Buzz\n",
      "Here is a number 71\n",
      "Fizz\n",
      "Here is a number 73\n",
      "Here is a number 74\n",
      "Fizzbuzz\n",
      "Here is a number 76\n",
      "Here is a number 77\n",
      "Fizz\n",
      "Here is a number 79\n",
      "Buzz\n",
      "Fizz\n",
      "Here is a number 82\n",
      "Here is a number 83\n",
      "Fizz\n",
      "Buzz\n",
      "Here is a number 86\n",
      "Fizz\n",
      "Here is a number 88\n",
      "Here is a number 89\n",
      "Fizzbuzz\n",
      "Here is a number 91\n",
      "Here is a number 92\n",
      "Fizz\n",
      "Here is a number 94\n",
      "Buzz\n",
      "Fizz\n",
      "Here is a number 97\n",
      "Here is a number 98\n",
      "Fizz\n",
      "Buzz\n"
     ]
    }
   ],
   "source": [
    "3. # Write a program that prints the numbers from 1 to 100.\n",
    "# For multiples of three print \"Fizz\" instead of the number\n",
    "# For the multiples of five print \"Buzz\".\n",
    "# For numbers which are multiples of both three and five print \"FizzBuzz\".\n",
    "3\n",
    "\n",
    "for Fizzbuzz in range(1,101,1):\n",
    "    if Fizzbuzz % 3 == 0 and Fizzbuzz % 5 == 0:\n",
    "        print(\"Fizzbuzz\")\n",
    "        continue\n",
    "    elif Fizzbuzz % 3 == 0:\n",
    "        print(\"Fizz\")\n",
    "        continue\n",
    "    elif Fizzbuzz % 5 == 0:\n",
    "        print(\"Buzz\")\n",
    "        continue\n",
    "    print(\"Here is a number\", Fizzbuzz)"
   ]
  },
  {
   "cell_type": "code",
   "execution_count": 128,
   "metadata": {},
   "outputs": [
    {
     "name": "stdout",
     "output_type": "stream",
     "text": [
      "What number would you like to go up to?:\t5\n",
      "1 1 1\n",
      "2 4 8\n",
      "3 9 27\n",
      "4 16 64\n",
      "5 25 125\n",
      "Would you like to do another table? Yes or No?:\tNo\n"
     ]
    }
   ],
   "source": [
    "# Display a table of powers.\n",
    "# Prompt the user to enter an integer.\n",
    "# Display a table of squares and cubes from 1 to the value entered.\n",
    "# Ask if the user wants to continue.\n",
    "# Assume that the user will enter valid data.\n",
    "# Only continue if the user agrees to.\n",
    "running = True\n",
    "\n",
    "while running:\n",
    "    number = int(input(\"What number would you like to go up to?:\\t\"))\n",
    "   \n",
    "    for x in range(1, number + 1):\n",
    "        print(x, x ** 2, x **3)\n",
    "\n",
    "    question = input(\"Would you like to do another table? Yes or No?:\\t\")\n",
    "    if question == \"No\":\n",
    "        break\n",
    "    else:\n",
    "        continue"
   ]
  },
  {
   "cell_type": "code",
   "execution_count": 129,
   "metadata": {},
   "outputs": [
    {
     "name": "stdout",
     "output_type": "stream",
     "text": [
      "Please enter your numerical grade 100\n",
      "You received an A with a 100\n",
      "Would you like to input another grade? Yes or No?:\tNo\n"
     ]
    }
   ],
   "source": [
    "# 5 Convert given number grades into letter grades. \n",
    "# Prompt the user for a numerical grade from 0 to 100.\n",
    "# Display the corresponding letter grade.\n",
    "# Prompt the user to continue.\n",
    "# Assume that the user will enter valid integers for the grades.\n",
    "# The application should only continue if the user agrees to.\n",
    "# Grade Ranges:\n",
    "\n",
    "# A : 100 - 88\n",
    "# B : 87 - 80\n",
    "# C : 79 - 67\n",
    "# D : 66 - 60\n",
    "# F : 59 - 0\n",
    "\n",
    "running = True\n",
    "\n",
    "while running:\n",
    "    grade = int(input(\"Please enter your numerical grade \"))\n",
    "    if grade <= 100 and grade >= 88:\n",
    "        print(f\"You received an A with a {grade}\")\n",
    "    elif grade <= 87 and grade >= 80:\n",
    "        print(f\"You received an B with a {grade}\")\n",
    "    elif grade <= 79 and grade >= 67:\n",
    "        print(f\"You received an C with a {grade}\")\n",
    "    elif grade <= 66 and grade >= 60:\n",
    "        print(f\"You received an D with a {grade}\")\n",
    "    elif grade <= 59:\n",
    "        print(f\"You received an D with a {grade}\")\n",
    "    question = input(\"Would you like to input another grade? Yes or No?:\\t\")\n",
    "    if question == \"No\":\n",
    "        break\n",
    "    else:\n",
    "        continue"
   ]
  },
  {
   "cell_type": "code",
   "execution_count": 132,
   "metadata": {},
   "outputs": [
    {
     "name": "stdout",
     "output_type": "stream",
     "text": [
      "{'Title': 'Childrens Everyday Bible', 'Author': 'Deborah Chancellor', 'Genre': 'Biblical'}\n",
      "{'Title': 'Mr. Brown can Moo! Can You?', 'Author': 'Dr. Seuss', 'Genre': 'Childrens Fiction'}\n",
      "{'Title': 'Start With Why', 'Author': 'Simon Sinek', 'Genre': 'Self Help Book'}\n"
     ]
    },
    {
     "ename": "KeyboardInterrupt",
     "evalue": "",
     "output_type": "error",
     "traceback": [
      "\u001b[0;31m---------------------------------------------------------------------------\u001b[0m",
      "\u001b[0;31mKeyboardInterrupt\u001b[0m                         Traceback (most recent call last)",
      "\u001b[0;32m/usr/local/anaconda3/lib/python3.7/site-packages/ipykernel/kernelbase.py\u001b[0m in \u001b[0;36m_input_request\u001b[0;34m(self, prompt, ident, parent, password)\u001b[0m\n\u001b[1;32m    883\u001b[0m             \u001b[0;32mtry\u001b[0m\u001b[0;34m:\u001b[0m\u001b[0;34m\u001b[0m\u001b[0;34m\u001b[0m\u001b[0m\n\u001b[0;32m--> 884\u001b[0;31m                 \u001b[0mident\u001b[0m\u001b[0;34m,\u001b[0m \u001b[0mreply\u001b[0m \u001b[0;34m=\u001b[0m \u001b[0mself\u001b[0m\u001b[0;34m.\u001b[0m\u001b[0msession\u001b[0m\u001b[0;34m.\u001b[0m\u001b[0mrecv\u001b[0m\u001b[0;34m(\u001b[0m\u001b[0mself\u001b[0m\u001b[0;34m.\u001b[0m\u001b[0mstdin_socket\u001b[0m\u001b[0;34m,\u001b[0m \u001b[0;36m0\u001b[0m\u001b[0;34m)\u001b[0m\u001b[0;34m\u001b[0m\u001b[0;34m\u001b[0m\u001b[0m\n\u001b[0m\u001b[1;32m    885\u001b[0m             \u001b[0;32mexcept\u001b[0m \u001b[0mException\u001b[0m\u001b[0;34m:\u001b[0m\u001b[0;34m\u001b[0m\u001b[0;34m\u001b[0m\u001b[0m\n",
      "\u001b[0;32m/usr/local/anaconda3/lib/python3.7/site-packages/jupyter_client/session.py\u001b[0m in \u001b[0;36mrecv\u001b[0;34m(self, socket, mode, content, copy)\u001b[0m\n\u001b[1;32m    802\u001b[0m         \u001b[0;32mtry\u001b[0m\u001b[0;34m:\u001b[0m\u001b[0;34m\u001b[0m\u001b[0;34m\u001b[0m\u001b[0m\n\u001b[0;32m--> 803\u001b[0;31m             \u001b[0mmsg_list\u001b[0m \u001b[0;34m=\u001b[0m \u001b[0msocket\u001b[0m\u001b[0;34m.\u001b[0m\u001b[0mrecv_multipart\u001b[0m\u001b[0;34m(\u001b[0m\u001b[0mmode\u001b[0m\u001b[0;34m,\u001b[0m \u001b[0mcopy\u001b[0m\u001b[0;34m=\u001b[0m\u001b[0mcopy\u001b[0m\u001b[0;34m)\u001b[0m\u001b[0;34m\u001b[0m\u001b[0;34m\u001b[0m\u001b[0m\n\u001b[0m\u001b[1;32m    804\u001b[0m         \u001b[0;32mexcept\u001b[0m \u001b[0mzmq\u001b[0m\u001b[0;34m.\u001b[0m\u001b[0mZMQError\u001b[0m \u001b[0;32mas\u001b[0m \u001b[0me\u001b[0m\u001b[0;34m:\u001b[0m\u001b[0;34m\u001b[0m\u001b[0;34m\u001b[0m\u001b[0m\n",
      "\u001b[0;32m/usr/local/anaconda3/lib/python3.7/site-packages/zmq/sugar/socket.py\u001b[0m in \u001b[0;36mrecv_multipart\u001b[0;34m(self, flags, copy, track)\u001b[0m\n\u001b[1;32m    474\u001b[0m         \"\"\"\n\u001b[0;32m--> 475\u001b[0;31m         \u001b[0mparts\u001b[0m \u001b[0;34m=\u001b[0m \u001b[0;34m[\u001b[0m\u001b[0mself\u001b[0m\u001b[0;34m.\u001b[0m\u001b[0mrecv\u001b[0m\u001b[0;34m(\u001b[0m\u001b[0mflags\u001b[0m\u001b[0;34m,\u001b[0m \u001b[0mcopy\u001b[0m\u001b[0;34m=\u001b[0m\u001b[0mcopy\u001b[0m\u001b[0;34m,\u001b[0m \u001b[0mtrack\u001b[0m\u001b[0;34m=\u001b[0m\u001b[0mtrack\u001b[0m\u001b[0;34m)\u001b[0m\u001b[0;34m]\u001b[0m\u001b[0;34m\u001b[0m\u001b[0;34m\u001b[0m\u001b[0m\n\u001b[0m\u001b[1;32m    476\u001b[0m         \u001b[0;31m# have first part already, only loop while more to receive\u001b[0m\u001b[0;34m\u001b[0m\u001b[0;34m\u001b[0m\u001b[0;34m\u001b[0m\u001b[0m\n",
      "\u001b[0;32mzmq/backend/cython/socket.pyx\u001b[0m in \u001b[0;36mzmq.backend.cython.socket.Socket.recv\u001b[0;34m()\u001b[0m\n",
      "\u001b[0;32mzmq/backend/cython/socket.pyx\u001b[0m in \u001b[0;36mzmq.backend.cython.socket.Socket.recv\u001b[0;34m()\u001b[0m\n",
      "\u001b[0;32mzmq/backend/cython/socket.pyx\u001b[0m in \u001b[0;36mzmq.backend.cython.socket._recv_copy\u001b[0;34m()\u001b[0m\n",
      "\u001b[0;32m/usr/local/anaconda3/lib/python3.7/site-packages/zmq/backend/cython/checkrc.pxd\u001b[0m in \u001b[0;36mzmq.backend.cython.checkrc._check_rc\u001b[0;34m()\u001b[0m\n",
      "\u001b[0;31mKeyboardInterrupt\u001b[0m: ",
      "\nDuring handling of the above exception, another exception occurred:\n",
      "\u001b[0;31mKeyboardInterrupt\u001b[0m                         Traceback (most recent call last)",
      "\u001b[0;32m<ipython-input-132-b791e0b36930>\u001b[0m in \u001b[0;36m<module>\u001b[0;34m\u001b[0m\n\u001b[1;32m     23\u001b[0m     \u001b[0mprint\u001b[0m\u001b[0;34m(\u001b[0m\u001b[0mTitle\u001b[0m\u001b[0;34m)\u001b[0m\u001b[0;34m\u001b[0m\u001b[0;34m\u001b[0m\u001b[0m\n\u001b[1;32m     24\u001b[0m \u001b[0;34m\u001b[0m\u001b[0m\n\u001b[0;32m---> 25\u001b[0;31m \u001b[0mprompt\u001b[0m \u001b[0;34m=\u001b[0m \u001b[0minput\u001b[0m\u001b[0;34m(\u001b[0m\u001b[0;34m\"Enter a genre \"\u001b[0m\u001b[0;34m)\u001b[0m\u001b[0;34m\u001b[0m\u001b[0;34m\u001b[0m\u001b[0m\n\u001b[0m\u001b[1;32m     26\u001b[0m \u001b[0;32mwhile\u001b[0m \u001b[0mprompt\u001b[0m \u001b[0;32mnot\u001b[0m \u001b[0;32min\u001b[0m \u001b[0;34m[\u001b[0m\u001b[0mx\u001b[0m\u001b[0;34m[\u001b[0m\u001b[0;34m'Genre'\u001b[0m\u001b[0;34m]\u001b[0m \u001b[0;32mfor\u001b[0m \u001b[0mx\u001b[0m \u001b[0;32min\u001b[0m \u001b[0mBooks\u001b[0m\u001b[0;34m]\u001b[0m\u001b[0;34m:\u001b[0m\u001b[0;34m\u001b[0m\u001b[0;34m\u001b[0m\u001b[0m\n\u001b[1;32m     27\u001b[0m     \u001b[0mprompt\u001b[0m \u001b[0;34m=\u001b[0m \u001b[0minput\u001b[0m\u001b[0;34m(\u001b[0m\u001b[0;34m'Please enter a new genre as the specified one is not in this dictionary: '\u001b[0m\u001b[0;34m)\u001b[0m\u001b[0;34m\u001b[0m\u001b[0;34m\u001b[0m\u001b[0m\n",
      "\u001b[0;32m/usr/local/anaconda3/lib/python3.7/site-packages/ipykernel/kernelbase.py\u001b[0m in \u001b[0;36mraw_input\u001b[0;34m(self, prompt)\u001b[0m\n\u001b[1;32m    857\u001b[0m             \u001b[0mself\u001b[0m\u001b[0;34m.\u001b[0m\u001b[0m_parent_ident\u001b[0m\u001b[0;34m,\u001b[0m\u001b[0;34m\u001b[0m\u001b[0;34m\u001b[0m\u001b[0m\n\u001b[1;32m    858\u001b[0m             \u001b[0mself\u001b[0m\u001b[0;34m.\u001b[0m\u001b[0m_parent_header\u001b[0m\u001b[0;34m,\u001b[0m\u001b[0;34m\u001b[0m\u001b[0;34m\u001b[0m\u001b[0m\n\u001b[0;32m--> 859\u001b[0;31m             \u001b[0mpassword\u001b[0m\u001b[0;34m=\u001b[0m\u001b[0;32mFalse\u001b[0m\u001b[0;34m,\u001b[0m\u001b[0;34m\u001b[0m\u001b[0;34m\u001b[0m\u001b[0m\n\u001b[0m\u001b[1;32m    860\u001b[0m         )\n\u001b[1;32m    861\u001b[0m \u001b[0;34m\u001b[0m\u001b[0m\n",
      "\u001b[0;32m/usr/local/anaconda3/lib/python3.7/site-packages/ipykernel/kernelbase.py\u001b[0m in \u001b[0;36m_input_request\u001b[0;34m(self, prompt, ident, parent, password)\u001b[0m\n\u001b[1;32m    887\u001b[0m             \u001b[0;32mexcept\u001b[0m \u001b[0mKeyboardInterrupt\u001b[0m\u001b[0;34m:\u001b[0m\u001b[0;34m\u001b[0m\u001b[0;34m\u001b[0m\u001b[0m\n\u001b[1;32m    888\u001b[0m                 \u001b[0;31m# re-raise KeyboardInterrupt, to truncate traceback\u001b[0m\u001b[0;34m\u001b[0m\u001b[0;34m\u001b[0m\u001b[0;34m\u001b[0m\u001b[0m\n\u001b[0;32m--> 889\u001b[0;31m                 \u001b[0;32mraise\u001b[0m \u001b[0mKeyboardInterrupt\u001b[0m\u001b[0;34m\u001b[0m\u001b[0;34m\u001b[0m\u001b[0m\n\u001b[0m\u001b[1;32m    890\u001b[0m             \u001b[0;32melse\u001b[0m\u001b[0;34m:\u001b[0m\u001b[0;34m\u001b[0m\u001b[0;34m\u001b[0m\u001b[0m\n\u001b[1;32m    891\u001b[0m                 \u001b[0;32mbreak\u001b[0m\u001b[0;34m\u001b[0m\u001b[0;34m\u001b[0m\u001b[0m\n",
      "\u001b[0;31mKeyboardInterrupt\u001b[0m: "
     ]
    }
   ],
   "source": [
    "# Create a list of dictionaries where each dictionary represents a book that you have \n",
    "# read. Each dictionary in the list should have the keys title, author, and genre. \n",
    "# Loop through the list and print out information about each book.\n",
    "\n",
    "# Prompt the user to enter a genre, then loop through your books list and print out the\n",
    "# titles of all the books in that genre.\n",
    "Books = [\n",
    "    {\"Title\": \"Childrens Everyday Bible\",\n",
    "          \"Author\": \"Deborah Chancellor\",\n",
    "          \"Genre\": \"Biblical\"\n",
    "         }, \n",
    "        {\n",
    "            \"Title\": \"Mr. Brown can Moo! Can You?\",\n",
    "          \"Author\": \"Dr. Seuss\",\n",
    "          \"Genre\": \"Childrens Fiction\"\n",
    "        },\n",
    "        {\n",
    "            \"Title\": \"Start With Why\",\n",
    "          \"Author\": \"Simon Sinek\",\n",
    "          \"Genre\": \"Self Help Book\"\n",
    "        }]\n",
    "for Title in Books:\n",
    "    print(Title)\n",
    "\n",
    "prompt = input(\"Enter a genre \")\n",
    "while prompt not in [x['Genre'] for x in Books]:\n",
    "    prompt = input('Please enter a new genre as the specified one is not in this dictionary: ')\n",
    "    if prompt in [x['Genre'] for x in Books]:\n",
    "        break\n",
    "for x in Books:\n",
    "    if prompt == x['Genre']:\n",
    "        print(\"{} Falls under the genre of {}\".format(x['Title'], x['Author']))"
   ]
  },
  {
   "cell_type": "code",
   "execution_count": 142,
   "metadata": {},
   "outputs": [
    {
     "name": "stdout",
     "output_type": "stream",
     "text": [
      "The book title is Childrens Everyday Bible , with the author Deborah Chancellor and is in the genre of Biblical\n",
      "The book title is Mr. Brown can Moo! Can You? , with the author Dr. Seuss and is in the genre of Childrens Fiction\n",
      "The book title is Start With Why , with the author Simon Sinek and is in the genre of Self Help Book\n"
     ]
    }
   ],
   "source": [
    "Books = [\n",
    "    {\"Title\": \"Childrens Everyday Bible\",\n",
    "          \"Author\": \"Deborah Chancellor\",\n",
    "          \"Genre\": \"Biblical\"\n",
    "         }, \n",
    "        {\n",
    "            \"Title\": \"Mr. Brown can Moo! Can You?\",\n",
    "          \"Author\": \"Dr. Seuss\",\n",
    "          \"Genre\": \"Childrens Fiction\"\n",
    "        },\n",
    "        {\n",
    "            \"Title\": \"Start With Why\",\n",
    "          \"Author\": \"Simon Sinek\",\n",
    "          \"Genre\": \"Self Help Book\"\n",
    "        }]\n",
    "for x in Books:\n",
    "    print(\"The book title is\", x['Title'], \", with the author\", x['Author'],\"and is in the genre of\", x['Genre'])"
   ]
  },
  {
   "cell_type": "code",
   "execution_count": 143,
   "metadata": {},
   "outputs": [
    {
     "data": {
      "text/plain": [
       "'bnn'"
      ]
     },
     "execution_count": 143,
     "metadata": {},
     "output_type": "execute_result"
    }
   ],
   "source": [
    "def remove_vowels(s):\n",
    "    assert type(s) == str, 'argument must be in str format' # check if argument is str type\n",
    "    \n",
    "    no_vowels = \"\"                            # create empty string\n",
    "    for letter in s:                          # iterate through string\n",
    "        if letter.lower() not in 'aeiou':     # check if letter is a vowel\n",
    "            no_vowels += letter               # if not a vowel, add letter to empty string variable \n",
    "    return(no_vowels)               \n",
    "    \n",
    "remove_vowels('banana')"
   ]
  },
  {
   "cell_type": "code",
   "execution_count": 144,
   "metadata": {},
   "outputs": [
    {
     "data": {
      "text/plain": [
       "'r__abc2'"
      ]
     },
     "execution_count": 144,
     "metadata": {},
     "output_type": "execute_result"
    }
   ],
   "source": [
    "# Define a function named normalize_name. It should accept a string and return a valid python identifier, that \n",
    "# is:anything that is not a valid python identifier should be removed\n",
    "# leading and trailing whitespace should be removed\n",
    "# everything should be lowercase\n",
    "# spaces should be replaced with underscores for example: Name will become name First Name will become \n",
    "# first_name % Completed will become completed\n",
    "def normalize_name(s):\n",
    "    assert type(s) == str, 'argument must be in str format' # check if argument is str type\n",
    "    \n",
    "    new_string = (s.strip(\" \").lstrip(\"0123456789\").lower().replace(\" \", \"_\"))   # remove whitespace from ends, numbers from left side, lower case all, replace spaces in string with \"_\"\n",
    "    string2 = \"\"                                                      # create empty string\n",
    "    for c in new_string:\n",
    "        if c not in \"!@#$%^&*()+=-[]{}\\/|?.<>,`~\":                    # remove special characters\n",
    "            string2 += c                                              # fill empty string with remaining characters\n",
    "    return(string2)\n",
    "\n",
    "normalize_name(' 123R $( )Abc2 ')"
   ]
  },
  {
   "cell_type": "code",
   "execution_count": 146,
   "metadata": {},
   "outputs": [
    {
     "data": {
      "text/plain": [
       "['guava', 'pineapple', 'mandarin orange']"
      ]
     },
     "execution_count": 146,
     "metadata": {},
     "output_type": "execute_result"
    }
   ],
   "source": [
    "# Exercise 3 - Use a list comprehension to make a variable named fruits_with_more_than_two_vowels. Hint: You'll need a way to check if something is a vowel.\n",
    "fruits = ['mango', 'kiwi', 'strawberry', 'guava', 'pineapple', 'mandarin orange']\n",
    "def count_vowels(word):      \n",
    "    count = 0\n",
    "    vowels = set(\"aeiouAEIOU\") \n",
    "    for letters in word:\n",
    "        if letters in vowels: \n",
    "            count = count + 1\n",
    "    return (count)\n",
    "\n",
    "fruits_with_more_than_two_vowels = [fruit for fruit in fruits if count_vowels(fruit) > 2]\n",
    "\n",
    "fruits_with_more_than_two_vowels"
   ]
  },
  {
   "cell_type": "code",
   "execution_count": 150,
   "metadata": {},
   "outputs": [],
   "source": [
    "students = [\n",
    "    {\n",
    "        \"id\": \"100001\",\n",
    "        \"student\": \"Ada Lovelace\",\n",
    "        \"coffee_preference\": \"light\",\n",
    "        \"course\": \"web development\",\n",
    "        \"grades\": [70, 91, 82, 71],\n",
    "        \"pets\": [{\"species\": \"horse\", \"age\": 8}],\n",
    "    },\n",
    "    {\n",
    "        \"id\": \"100002\",\n",
    "        \"student\": \"Thomas Bayes\",\n",
    "        \"coffee_preference\": \"medium\",\n",
    "        \"course\": \"data science\",\n",
    "        \"grades\": [75, 73, 86, 100],\n",
    "        \"pets\": [],\n",
    "    },\n",
    "    {\n",
    "        \"id\": \"100003\",\n",
    "        \"student\": \"Marie Curie\",\n",
    "        \"coffee_preference\": \"light\",\n",
    "        \"course\": \"web development\",\n",
    "        \"grades\": [70, 89, 69, 65],\n",
    "        \"pets\": [{\"species\": \"cat\", \"age\": 0}],\n",
    "    },\n",
    "    {\n",
    "        \"id\": \"100004\",\n",
    "        \"student\": \"Grace Hopper\",\n",
    "        \"coffee_preference\": \"dark\",\n",
    "        \"course\": \"data science\",\n",
    "        \"grades\": [73, 66, 83, 92],\n",
    "        \"pets\": [{\"species\": \"dog\", \"age\": 4}, {\"species\": \"cat\", \"age\": 4}],\n",
    "    },\n",
    "    {\n",
    "        \"id\": \"100005\",\n",
    "        \"student\": \"Alan Turing\",\n",
    "        \"coffee_preference\": \"dark\",\n",
    "        \"course\": \"web development\",\n",
    "        \"grades\": [78, 98, 85, 65],\n",
    "        \"pets\": [\n",
    "            {\"species\": \"horse\", \"age\": 6},\n",
    "            {\"species\": \"horse\", \"age\": 7},\n",
    "            {\"species\": \"dog\", \"age\": 5},\n",
    "        ],\n",
    "    },\n",
    "    {\n",
    "        \"id\": \"100006\",\n",
    "        \"student\": \"Rosalind Franklin\",\n",
    "        \"coffee_preference\": \"dark\",\n",
    "        \"course\": \"data science\",\n",
    "        \"grades\": [76, 70, 96, 81],\n",
    "        \"pets\": [],\n",
    "    },\n",
    "    {\n",
    "        \"id\": \"100007\",\n",
    "        \"student\": \"Elizabeth Blackwell\",\n",
    "        \"coffee_preference\": \"dark\",\n",
    "        \"course\": \"web development\",\n",
    "        \"grades\": [69, 94, 89, 86],\n",
    "        \"pets\": [{\"species\": \"cat\", \"age\": 10}],\n",
    "    },\n",
    "    {\n",
    "        \"id\": \"100008\",\n",
    "        \"student\": \"Rene Descartes\",\n",
    "        \"coffee_preference\": \"medium\",\n",
    "        \"course\": \"data science\",\n",
    "        \"grades\": [87, 79, 90, 99],\n",
    "        \"pets\": [{\"species\": \"cat\", \"age\": 10}, {\"species\": \"cat\", \"age\": 8}],\n",
    "    },\n",
    "    {\n",
    "        \"id\": \"100009\",\n",
    "        \"student\": \"Ahmed Zewail\",\n",
    "        \"coffee_preference\": \"medium\",\n",
    "        \"course\": \"data science\",\n",
    "        \"grades\": [74, 99, 93, 89],\n",
    "        \"pets\": [{\"species\": \"cat\", \"age\": 0}, {\"species\": \"cat\", \"age\": 0}],\n",
    "    },\n",
    "    {\n",
    "        \"id\": \"100010\",\n",
    "        \"student\": \"Chien-Shiung Wu\",\n",
    "        \"coffee_preference\": \"medium\",\n",
    "        \"course\": \"web development\",\n",
    "        \"grades\": [82, 92, 91, 65],\n",
    "        \"pets\": [{\"species\": \"cat\", \"age\": 8}],\n",
    "    },\n",
    "    {\n",
    "        \"id\": \"100011\",\n",
    "        \"student\": \"William Sanford Nye\",\n",
    "        \"coffee_preference\": \"dark\",\n",
    "        \"course\": \"data science\",\n",
    "        \"grades\": [70, 92, 65, 99],\n",
    "        \"pets\": [{\"species\": \"cat\", \"age\": 8}, {\"species\": \"cat\", \"age\": 5}],\n",
    "    },\n",
    "    {\n",
    "        \"id\": \"100012\",\n",
    "        \"student\": \"Carl Sagan\",\n",
    "        \"coffee_preference\": \"medium\",\n",
    "        \"course\": \"data science\",\n",
    "        \"grades\": [100, 86, 91, 87],\n",
    "        \"pets\": [{\"species\": \"cat\", \"age\": 10}],\n",
    "    },\n",
    "    {\n",
    "        \"id\": \"100013\",\n",
    "        \"student\": \"Jane Goodall\",\n",
    "        \"coffee_preference\": \"light\",\n",
    "        \"course\": \"web development\",\n",
    "        \"grades\": [80, 70, 68, 98],\n",
    "        \"pets\": [{\"species\": \"horse\", \"age\": 4}],\n",
    "    },\n",
    "    {\n",
    "        \"id\": \"100014\",\n",
    "        \"student\": \"Richard Feynman\",\n",
    "        \"coffee_preference\": \"medium\",\n",
    "        \"course\": \"web development\",\n",
    "        \"grades\": [73, 99, 86, 98],\n",
    "        \"pets\": [{\"species\": \"dog\", \"age\": 6}],\n",
    "    },\n",
    "]"
   ]
  },
  {
   "cell_type": "code",
   "execution_count": 158,
   "metadata": {},
   "outputs": [
    {
     "name": "stdout",
     "output_type": "stream",
     "text": [
      "There are 14 students.\n",
      "14\n"
     ]
    }
   ],
   "source": [
    "# How many students are there?\n",
    "\n",
    "print(f'There are {len(students)} students.')\n",
    "print(len(students))\n",
    "return "
   ]
  },
  {
   "cell_type": "code",
   "execution_count": 169,
   "metadata": {},
   "outputs": [
    {
     "data": {
      "text/plain": [
       "14"
      ]
     },
     "execution_count": 169,
     "metadata": {},
     "output_type": "execute_result"
    }
   ],
   "source": [
    "num_students = [student['id'] for student in students]\n",
    "len(num_students)"
   ]
  },
  {
   "cell_type": "code",
   "execution_count": 163,
   "metadata": {},
   "outputs": [
    {
     "data": {
      "text/plain": [
       "3"
      ]
     },
     "execution_count": 163,
     "metadata": {},
     "output_type": "execute_result"
    }
   ],
   "source": [
    "# How many students prefer light coffee? \n",
    "\n",
    "light_coffee = [student['coffee_preference'] for student in students if student['coffee_preference'] == 'light']\n",
    "len(light_coffee)"
   ]
  },
  {
   "cell_type": "code",
   "execution_count": 167,
   "metadata": {},
   "outputs": [
    {
     "data": {
      "text/plain": [
       "5"
      ]
     },
     "execution_count": 167,
     "metadata": {},
     "output_type": "execute_result"
    }
   ],
   "source": [
    "# For each type of coffee roast?\n",
    "\n",
    "light = 0\n",
    "medium = 0\n",
    "dark = 0\n",
    "\n",
    "for i in students:\n",
    "    if i['coffee_preference'] == \"light\":\n",
    "        light += 1\n",
    "    elif i['coffee_preference'] == \"medium\":\n",
    "        medium += 1\n",
    "    elif i['coffee_preference'] == \"dark\":\n",
    "        dark += 1\n",
    "light\n",
    "medium\n",
    "dark"
   ]
  },
  {
   "cell_type": "code",
   "execution_count": 170,
   "metadata": {},
   "outputs": [
    {
     "data": {
      "text/plain": [
       "11"
      ]
     },
     "execution_count": 170,
     "metadata": {},
     "output_type": "execute_result"
    }
   ],
   "source": [
    "# How many types of each pet are there?\n",
    "\n",
    "cats = 0\n",
    "dogs = 0\n",
    "horses = 0\n",
    "\n",
    "for x in students:\n",
    "    for items in x['pets']:\n",
    "        if items['species'] == 'cat':\n",
    "            cats += 1\n",
    "        elif items['species'] == 'dog':\n",
    "            dogs += 1\n",
    "        elif items['species'] == 'horse':\n",
    "            horses += 1\n",
    "cats"
   ]
  },
  {
   "cell_type": "code",
   "execution_count": 171,
   "metadata": {},
   "outputs": [
    {
     "name": "stdout",
     "output_type": "stream",
     "text": [
      "Ada Lovelace has 4 grades\n",
      "Thomas Bayes has 4 grades\n",
      "Marie Curie has 4 grades\n",
      "Grace Hopper has 4 grades\n",
      "Alan Turing has 4 grades\n",
      "Rosalind Franklin has 4 grades\n",
      "Elizabeth Blackwell has 4 grades\n",
      "Rene Descartes has 4 grades\n",
      "Ahmed Zewail has 4 grades\n",
      "Chien-Shiung Wu has 4 grades\n",
      "William Sanford Nye has 4 grades\n",
      "Carl Sagan has 4 grades\n",
      "Jane Goodall has 4 grades\n",
      "Richard Feynman has 4 grades\n"
     ]
    }
   ],
   "source": [
    "# How many grades does each student have? \n",
    "\n",
    "for x in students:\n",
    "    print(x['student'], 'has',len(x['grades']), 'grades')"
   ]
  },
  {
   "cell_type": "code",
   "execution_count": 175,
   "metadata": {},
   "outputs": [
    {
     "name": "stdout",
     "output_type": "stream",
     "text": [
      "Ada Lovelace 78.5\n",
      "Thomas Bayes 83.5\n",
      "Marie Curie 73.25\n",
      "Grace Hopper 78.5\n",
      "Alan Turing 81.5\n",
      "Rosalind Franklin 80.75\n",
      "Elizabeth Blackwell 84.5\n",
      "Rene Descartes 88.75\n",
      "Ahmed Zewail 88.75\n",
      "Chien-Shiung Wu 82.5\n",
      "William Sanford Nye 81.5\n",
      "Carl Sagan 91.0\n",
      "Jane Goodall 79.0\n",
      "Richard Feynman 89.0\n"
     ]
    }
   ],
   "source": [
    "# What is each student's grade average?\n",
    "\n",
    "for x in students:\n",
    "    print(x['student'],sum(x['grades']) / (len(x['grades'])))\n"
   ]
  },
  {
   "cell_type": "code",
   "execution_count": 179,
   "metadata": {},
   "outputs": [
    {
     "name": "stdout",
     "output_type": "stream",
     "text": [
      "Ada Lovelace 1\n",
      "Thomas Bayes 0\n",
      "Marie Curie 1\n",
      "Grace Hopper 2\n",
      "Alan Turing 3\n",
      "Rosalind Franklin 0\n",
      "Elizabeth Blackwell 1\n",
      "Rene Descartes 2\n",
      "Ahmed Zewail 2\n",
      "Chien-Shiung Wu 1\n",
      "William Sanford Nye 2\n",
      "Carl Sagan 1\n",
      "Jane Goodall 1\n",
      "Richard Feynman 1\n"
     ]
    }
   ],
   "source": [
    "# How many pets does each student have?\n",
    "\n",
    "for x in students:\n",
    "    print(x['student'], len(x['pets']))"
   ]
  },
  {
   "cell_type": "code",
   "execution_count": 1,
   "metadata": {},
   "outputs": [],
   "source": [
    "import numpy as np"
   ]
  },
  {
   "cell_type": "code",
   "execution_count": 2,
   "metadata": {},
   "outputs": [
    {
     "name": "stdout",
     "output_type": "stream",
     "text": [
      "[[9 8]\n",
      " [0 6]]\n"
     ]
    }
   ],
   "source": [
    "x = np.array([[5,9,8], [9,0,6]])\n",
    "print(x[0:, 1:])"
   ]
  },
  {
   "cell_type": "code",
   "execution_count": 3,
   "metadata": {},
   "outputs": [
    {
     "data": {
      "text/plain": [
       "(5+4j)"
      ]
     },
     "execution_count": 3,
     "metadata": {},
     "output_type": "execute_result"
    }
   ],
   "source": [
    "complex(5,4)"
   ]
  },
  {
   "cell_type": "code",
   "execution_count": 4,
   "metadata": {},
   "outputs": [
    {
     "name": "stdout",
     "output_type": "stream",
     "text": [
      "[[1 5]\n",
      " [2 6]\n",
      " [3 7]\n",
      " [4 8]]\n"
     ]
    }
   ],
   "source": [
    "x1 = np.array([1,2,3,4])\n",
    "x2 = np.array([5,6,7,8])\n",
    "print(np.column_stack((x1,x2)))"
   ]
  },
  {
   "cell_type": "code",
   "execution_count": 5,
   "metadata": {},
   "outputs": [
    {
     "name": "stdout",
     "output_type": "stream",
     "text": [
      "0.375\n"
     ]
    }
   ],
   "source": [
    "print(3/8)"
   ]
  },
  {
   "cell_type": "code",
   "execution_count": 24,
   "metadata": {},
   "outputs": [],
   "source": [
    "type(5)\n",
    "import statistics as s"
   ]
  },
  {
   "cell_type": "code",
   "execution_count": 25,
   "metadata": {},
   "outputs": [
    {
     "name": "stdout",
     "output_type": "stream",
     "text": [
      "3.65\n"
     ]
    }
   ],
   "source": [
    "x=np.array([4.19,3.65,2.93])\n",
    "print(s.median(x))"
   ]
  },
  {
   "cell_type": "code",
   "execution_count": 26,
   "metadata": {},
   "outputs": [
    {
     "name": "stdout",
     "output_type": "stream",
     "text": [
      "[2.93 3.65 4.19]\n"
     ]
    }
   ],
   "source": [
    "print(np.sort(x))"
   ]
  },
  {
   "cell_type": "code",
   "execution_count": 34,
   "metadata": {},
   "outputs": [
    {
     "data": {
      "text/plain": [
       "['a', 'b', 'c', 'd']"
      ]
     },
     "execution_count": 34,
     "metadata": {},
     "output_type": "execute_result"
    }
   ],
   "source": [
    "x=['a','b','c','d']\n",
    "x[:] "
   ]
  },
  {
   "cell_type": "code",
   "execution_count": 35,
   "metadata": {},
   "outputs": [
    {
     "data": {
      "text/plain": [
       "array([False, False])"
      ]
     },
     "execution_count": 35,
     "metadata": {},
     "output_type": "execute_result"
    }
   ],
   "source": [
    "np.array([4,5])>6"
   ]
  },
  {
   "cell_type": "code",
   "execution_count": 37,
   "metadata": {},
   "outputs": [
    {
     "data": {
      "text/plain": [
       "array([[9.4, 2.5]])"
      ]
     },
     "execution_count": 37,
     "metadata": {},
     "output_type": "execute_result"
    }
   ],
   "source": [
    "np_2d = np.array([[1.5,6.4,7.8,2.2],[4.3,8.7,1.9,3.4],[5.3,7.3,9.4,2.5]])\n",
    "np_2d[2:,2:]"
   ]
  },
  {
   "cell_type": "code",
   "execution_count": 38,
   "metadata": {},
   "outputs": [
    {
     "name": "stdout",
     "output_type": "stream",
     "text": [
      "1.55\n"
     ]
    }
   ],
   "source": [
    "np_heights = np.array([[1.60,1.75],[1.56,1.70],[1.49,1.68]])\n",
    "print(np.mean(np_heights[:,0]))"
   ]
  },
  {
   "cell_type": "code",
   "execution_count": 39,
   "metadata": {},
   "outputs": [
    {
     "name": "stdout",
     "output_type": "stream",
     "text": [
      "[0, 1, 1]\n"
     ]
    }
   ],
   "source": [
    "x=0\n",
    "y=1\n",
    "z=1\n",
    "print([x,y,z])"
   ]
  },
  {
   "cell_type": "code",
   "execution_count": 42,
   "metadata": {},
   "outputs": [
    {
     "name": "stdout",
     "output_type": "stream",
     "text": [
      "['j', 'x', 'n', 'x']\n"
     ]
    }
   ],
   "source": [
    "p = ['j', 'x', 'n', 'k', 'e', 'x']\n",
    "del(p[3:5])\n",
    "print(p)"
   ]
  },
  {
   "cell_type": "code",
   "execution_count": 43,
   "metadata": {},
   "outputs": [
    {
     "ename": "TypeError",
     "evalue": "can't multiply sequence by non-int of type 'str'",
     "output_type": "error",
     "traceback": [
      "\u001b[0;31m---------------------------------------------------------------------------\u001b[0m",
      "\u001b[0;31mTypeError\u001b[0m                                 Traceback (most recent call last)",
      "\u001b[0;32m<ipython-input-43-d6d72d9f0dad>\u001b[0m in \u001b[0;36m<module>\u001b[0;34m\u001b[0m\n\u001b[0;32m----> 1\u001b[0;31m \u001b[0;34m'python'\u001b[0m\u001b[0;34m*\u001b[0m\u001b[0;34m'2'\u001b[0m\u001b[0;34m\u001b[0m\u001b[0;34m\u001b[0m\u001b[0m\n\u001b[0m",
      "\u001b[0;31mTypeError\u001b[0m: can't multiply sequence by non-int of type 'str'"
     ]
    }
   ],
   "source": [
    "'python'*'2'"
   ]
  },
  {
   "cell_type": "code",
   "execution_count": 44,
   "metadata": {},
   "outputs": [
    {
     "name": "stdout",
     "output_type": "stream",
     "text": [
      "6666\n"
     ]
    }
   ],
   "source": [
    "print('6'* (2**2))"
   ]
  },
  {
   "cell_type": "code",
   "execution_count": null,
   "metadata": {},
   "outputs": [],
   "source": []
  }
 ],
 "metadata": {
  "kernelspec": {
   "display_name": "Python 3",
   "language": "python",
   "name": "python3"
  },
  "language_info": {
   "codemirror_mode": {
    "name": "ipython",
    "version": 3
   },
   "file_extension": ".py",
   "mimetype": "text/x-python",
   "name": "python",
   "nbconvert_exporter": "python",
   "pygments_lexer": "ipython3",
   "version": "3.7.9"
  }
 },
 "nbformat": 4,
 "nbformat_minor": 4
}
