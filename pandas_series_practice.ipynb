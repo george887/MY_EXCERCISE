{
 "cells": [
  {
   "cell_type": "code",
   "execution_count": 2,
   "metadata": {},
   "outputs": [],
   "source": [
    "import pandas as pd\n",
    "import numpy as np"
   ]
  },
  {
   "cell_type": "code",
   "execution_count": 2,
   "metadata": {},
   "outputs": [],
   "source": [
    "1. # a. Name the variable that holds the series fruits.\n",
    "fruits = [\"kiwi\", \"mango\", \"strawberry\", \"pineapple\", \"gala apple\", \"honeycrisp apple\",\n",
    "          \"tomato\", \"watermelon\", \"honeydew\", \"kiwi\", \"kiwi\", \"kiwi\", \"mango\", \"blueberry\",\n",
    "          \"blackberry\", \"gooseberry\", \"papaya\"]"
   ]
  },
  {
   "cell_type": "code",
   "execution_count": 6,
   "metadata": {},
   "outputs": [
    {
     "data": {
      "text/plain": [
       "['kiwi',\n",
       " 'mango',\n",
       " 'strawberry',\n",
       " 'pineapple',\n",
       " 'gala apple',\n",
       " 'honeycrisp apple',\n",
       " 'tomato',\n",
       " 'watermelon',\n",
       " 'honeydew',\n",
       " 'kiwi',\n",
       " 'kiwi',\n",
       " 'kiwi',\n",
       " 'mango',\n",
       " 'blueberry',\n",
       " 'blackberry',\n",
       " 'gooseberry',\n",
       " 'papaya']"
      ]
     },
     "execution_count": 6,
     "metadata": {},
     "output_type": "execute_result"
    }
   ],
   "source": [
    "# Use pandas to create a Series from the following data:\n",
    "# 1.b Run .describe() on the series to see what describe returns for a series of strings.\n",
    "fruit_series = pd.Series(fruits)\n",
    "list(fruit_series)"
   ]
  },
  {
   "cell_type": "code",
   "execution_count": 8,
   "metadata": {},
   "outputs": [
    {
     "data": {
      "text/plain": [
       "count       17\n",
       "unique      13\n",
       "top       kiwi\n",
       "freq         4\n",
       "dtype: object"
      ]
     },
     "execution_count": 8,
     "metadata": {},
     "output_type": "execute_result"
    }
   ],
   "source": [
    "fruit_series.describe()"
   ]
  },
  {
   "cell_type": "code",
   "execution_count": 9,
   "metadata": {},
   "outputs": [
    {
     "data": {
      "text/plain": [
       "array(['kiwi', 'mango', 'strawberry', 'pineapple', 'gala apple',\n",
       "       'honeycrisp apple', 'tomato', 'watermelon', 'honeydew',\n",
       "       'blueberry', 'blackberry', 'gooseberry', 'papaya'], dtype=object)"
      ]
     },
     "execution_count": 9,
     "metadata": {},
     "output_type": "execute_result"
    }
   ],
   "source": [
    "# 1.C Run the code necessary to produce only the unique fruit names.\n",
    "fruit_series.unique()"
   ]
  },
  {
   "cell_type": "code",
   "execution_count": 11,
   "metadata": {},
   "outputs": [
    {
     "data": {
      "text/plain": [
       "kiwi                4\n",
       "mango               2\n",
       "pineapple           1\n",
       "gala apple          1\n",
       "blueberry           1\n",
       "tomato              1\n",
       "blackberry          1\n",
       "honeycrisp apple    1\n",
       "papaya              1\n",
       "honeydew            1\n",
       "watermelon          1\n",
       "strawberry          1\n",
       "gooseberry          1\n",
       "dtype: int64"
      ]
     },
     "execution_count": 11,
     "metadata": {},
     "output_type": "execute_result"
    }
   ],
   "source": [
    "# 1 D Determine how many times each value occurs in the series.\n",
    "fruit_series.value_counts()"
   ]
  },
  {
   "cell_type": "code",
   "execution_count": 19,
   "metadata": {},
   "outputs": [
    {
     "data": {
      "text/plain": [
       "0    kiwi\n",
       "dtype: object"
      ]
     },
     "execution_count": 19,
     "metadata": {},
     "output_type": "execute_result"
    }
   ],
   "source": [
    "# 1 E. Determine the most frequently occurring fruit name from the series.\n",
    "fruit_series.mode()"
   ]
  },
  {
   "cell_type": "code",
   "execution_count": 21,
   "metadata": {},
   "outputs": [
    {
     "data": {
      "text/plain": [
       "pineapple           1\n",
       "gala apple          1\n",
       "blueberry           1\n",
       "tomato              1\n",
       "blackberry          1\n",
       "honeycrisp apple    1\n",
       "papaya              1\n",
       "honeydew            1\n",
       "watermelon          1\n",
       "strawberry          1\n",
       "gooseberry          1\n",
       "dtype: int64"
      ]
     },
     "execution_count": 21,
     "metadata": {},
     "output_type": "execute_result"
    }
   ],
   "source": [
    "#1 F. Determine the least frequently occurring fruit name from the series.\n",
    "fruit_series.value_counts().nsmallest(keep=\"all\")"
   ]
  },
  {
   "cell_type": "code",
   "execution_count": 24,
   "metadata": {},
   "outputs": [
    {
     "data": {
      "text/plain": [
       "16"
      ]
     },
     "execution_count": 24,
     "metadata": {},
     "output_type": "execute_result"
    }
   ],
   "source": [
    "#1 G. Write the code to get the longest string from the fruits series.\n",
    "fruit_series.str.len().max()"
   ]
  },
  {
   "cell_type": "code",
   "execution_count": 27,
   "metadata": {},
   "outputs": [
    {
     "data": {
      "text/plain": [
       "2           strawberry\n",
       "3            pineapple\n",
       "4           gala apple\n",
       "5     honeycrisp apple\n",
       "6               tomato\n",
       "7           watermelon\n",
       "8             honeydew\n",
       "13           blueberry\n",
       "14          blackberry\n",
       "15          gooseberry\n",
       "16              papaya\n",
       "dtype: object"
      ]
     },
     "execution_count": 27,
     "metadata": {},
     "output_type": "execute_result"
    }
   ],
   "source": [
    "#1. H. Find the fruit(s) with 5 or more letters in the name.\n",
    "fruit_series[fruit_series.str.len() >5]"
   ]
  },
  {
   "cell_type": "code",
   "execution_count": 31,
   "metadata": {},
   "outputs": [
    {
     "data": {
      "text/plain": [
       "0                 KIWI\n",
       "1                MANGO\n",
       "2           STRAWBERRY\n",
       "3            PINEAPPLE\n",
       "4           GALA APPLE\n",
       "5     HONEYCRISP APPLE\n",
       "6               TOMATO\n",
       "7           WATERMELON\n",
       "8             HONEYDEW\n",
       "9                 KIWI\n",
       "10                KIWI\n",
       "11                KIWI\n",
       "12               MANGO\n",
       "13           BLUEBERRY\n",
       "14          BLACKBERRY\n",
       "15          GOOSEBERRY\n",
       "16              PAPAYA\n",
       "dtype: object"
      ]
     },
     "execution_count": 31,
     "metadata": {},
     "output_type": "execute_result"
    }
   ],
   "source": [
    "#1. I. Capitalize all the fruit strings in the series.\n",
    "fruit_series.str.upper()"
   ]
  },
  {
   "cell_type": "code",
   "execution_count": 32,
   "metadata": {},
   "outputs": [
    {
     "data": {
      "text/plain": [
       "0                 Kiwi\n",
       "1                Mango\n",
       "2           Strawberry\n",
       "3            Pineapple\n",
       "4           Gala apple\n",
       "5     Honeycrisp apple\n",
       "6               Tomato\n",
       "7           Watermelon\n",
       "8             Honeydew\n",
       "9                 Kiwi\n",
       "10                Kiwi\n",
       "11                Kiwi\n",
       "12               Mango\n",
       "13           Blueberry\n",
       "14          Blackberry\n",
       "15          Gooseberry\n",
       "16              Papaya\n",
       "dtype: object"
      ]
     },
     "execution_count": 32,
     "metadata": {},
     "output_type": "execute_result"
    }
   ],
   "source": [
    "fruit_series.str.capitalize()"
   ]
  },
  {
   "cell_type": "code",
   "execution_count": 35,
   "metadata": {},
   "outputs": [
    {
     "data": {
      "text/plain": [
       "0     0\n",
       "1     1\n",
       "2     1\n",
       "3     1\n",
       "4     3\n",
       "5     1\n",
       "6     1\n",
       "7     1\n",
       "8     0\n",
       "9     0\n",
       "10    0\n",
       "11    0\n",
       "12    1\n",
       "13    0\n",
       "14    1\n",
       "15    0\n",
       "16    3\n",
       "dtype: int64"
      ]
     },
     "execution_count": 35,
     "metadata": {},
     "output_type": "execute_result"
    }
   ],
   "source": [
    "#1 J. Count the letter \"a\" in all the fruits (use string vectorization)\n",
    "fruit_series.str.count(\"a\")"
   ]
  },
  {
   "cell_type": "code",
   "execution_count": 40,
   "metadata": {},
   "outputs": [
    {
     "data": {
      "text/plain": [
       "0     2\n",
       "1     2\n",
       "2     2\n",
       "3     4\n",
       "4     4\n",
       "5     5\n",
       "6     3\n",
       "7     4\n",
       "8     3\n",
       "9     2\n",
       "10    2\n",
       "11    2\n",
       "12    2\n",
       "13    3\n",
       "14    2\n",
       "15    4\n",
       "16    3\n",
       "dtype: int64"
      ]
     },
     "execution_count": 40,
     "metadata": {},
     "output_type": "execute_result"
    }
   ],
   "source": [
    "#1. K. Output the number of vowels in each and every fruit.\n",
    "fruit_series.str.count('a') + fruit_series.str.count('e') + fruit_series.str.count('i') + fruit_series.str.count('o') + fruit_series.str.count('u')"
   ]
  },
  {
   "cell_type": "code",
   "execution_count": 69,
   "metadata": {},
   "outputs": [
    {
     "data": {
      "text/plain": [
       "0     2\n",
       "1     2\n",
       "2     2\n",
       "3     4\n",
       "4     4\n",
       "5     5\n",
       "6     3\n",
       "7     4\n",
       "8     3\n",
       "9     2\n",
       "10    2\n",
       "11    2\n",
       "12    2\n",
       "13    3\n",
       "14    2\n",
       "15    4\n",
       "16    3\n",
       "dtype: int64"
      ]
     },
     "execution_count": 69,
     "metadata": {},
     "output_type": "execute_result"
    }
   ],
   "source": [
    "# Another way to output all the vowels\n",
    "vowels = fruit_series.str.count(\"[aeiou]\")\n",
    "vowels"
   ]
  },
  {
   "cell_type": "code",
   "execution_count": 41,
   "metadata": {},
   "outputs": [
    {
     "data": {
      "text/plain": [
       "49"
      ]
     },
     "execution_count": 41,
     "metadata": {},
     "output_type": "execute_result"
    }
   ],
   "source": [
    "sum(fruit_series.str.count('a') + fruit_series.str.count('e') + fruit_series.str.count('i') + fruit_series.str.count('o') + fruit_series.str.count('u'))"
   ]
  },
  {
   "cell_type": "code",
   "execution_count": 59,
   "metadata": {},
   "outputs": [
    {
     "data": {
      "text/plain": [
       "49"
      ]
     },
     "execution_count": 59,
     "metadata": {},
     "output_type": "execute_result"
    }
   ],
   "source": [
    "sum(fruit_series.str.count(\"[aeiou]\"))"
   ]
  },
  {
   "cell_type": "code",
   "execution_count": 50,
   "metadata": {},
   "outputs": [
    {
     "data": {
      "text/plain": [
       "6         tomato\n",
       "15    gooseberry\n",
       "dtype: object"
      ]
     },
     "execution_count": 50,
     "metadata": {},
     "output_type": "execute_result"
    }
   ],
   "source": [
    "# 1. L. Use the .apply method and a lambda function to find the fruit(s) containing two or more \"o\" \n",
    "# letters in the name.\n",
    "two_or_more_os = fruit_series.apply(lambda string: string.count(\"o\") >= 2)\n",
    "fruit_series[two_or_more_os]"
   ]
  },
  {
   "cell_type": "code",
   "execution_count": 54,
   "metadata": {},
   "outputs": [
    {
     "data": {
      "text/plain": [
       "2     strawberry\n",
       "13     blueberry\n",
       "14    blackberry\n",
       "15    gooseberry\n",
       "dtype: object"
      ]
     },
     "execution_count": 54,
     "metadata": {},
     "output_type": "execute_result"
    }
   ],
   "source": [
    "#1.M Write the code to get only the fruits containing \"berry\" in the name\n",
    "berry_fruits = fruit_series.str.count(\"berry\") >0\n",
    "berry_fruits\n",
    "fruit_series[berry_fruits]"
   ]
  },
  {
   "cell_type": "code",
   "execution_count": 56,
   "metadata": {},
   "outputs": [
    {
     "data": {
      "text/plain": [
       "3           pineapple\n",
       "4          gala apple\n",
       "5    honeycrisp apple\n",
       "dtype: object"
      ]
     },
     "execution_count": 56,
     "metadata": {},
     "output_type": "execute_result"
    }
   ],
   "source": [
    "#1 N. Write the code to get only the fruits containing \"apple\" in the name\n",
    "apple_fruit = fruit_series.str.count(\"apple\") > 0\n",
    "apple_fruit\n",
    "fruit_series[apple_fruit]"
   ]
  },
  {
   "cell_type": "code",
   "execution_count": 65,
   "metadata": {},
   "outputs": [
    {
     "data": {
      "text/plain": [
       "'honeycrisp apple'"
      ]
     },
     "execution_count": 65,
     "metadata": {},
     "output_type": "execute_result"
    }
   ],
   "source": [
    "#1. O. Which fruit has the highest amount of vowels?\n",
    "most_vowels = fruit_series.str.count(\"[aeiou]\").max()\n",
    "most_vowels\n",
    "fruit_series[most_vowels]"
   ]
  },
  {
   "cell_type": "code",
   "execution_count": 71,
   "metadata": {},
   "outputs": [
    {
     "data": {
      "text/plain": [
       "'honeycrisp apple'"
      ]
     },
     "execution_count": 71,
     "metadata": {},
     "output_type": "execute_result"
    }
   ],
   "source": [
    "#Alt way to solve\n",
    "most_vowel = vowels.argmax()\n",
    "fruit_series[most_vowel]"
   ]
  },
  {
   "cell_type": "code",
   "execution_count": 73,
   "metadata": {},
   "outputs": [],
   "source": [
    "# Use pandas to create a Series from the following data:\n",
    "\n",
    "\n",
    "numbers = ['$796,459.41', '$278.60', '$482,571.67', '$4,503,915.98', '$2,121,418.3', '$1,260,813.3', \n",
    "           '$87,231.01', '$1,509,175.45', '$4,138,548.00', '$2,848,913.80', '$594,715.39', '$4,789,988.17', \n",
    "           '$4,513,644.5', '$3,191,059.97', '$1,758,712.24', '$4,338,283.54', '$4,738,303.38', '$2,791,759.67',\n",
    "           '$769,681.94', '$452,650.23']"
   ]
  },
  {
   "cell_type": "code",
   "execution_count": 89,
   "metadata": {},
   "outputs": [],
   "source": [
    "numbers = pd.Series(numbers)"
   ]
  },
  {
   "cell_type": "code",
   "execution_count": 88,
   "metadata": {},
   "outputs": [
    {
     "data": {
      "text/plain": [
       "0       $796,459.41\n",
       "1           $278.60\n",
       "2       $482,571.67\n",
       "3     $4,503,915.98\n",
       "4      $2,121,418.3\n",
       "5      $1,260,813.3\n",
       "6        $87,231.01\n",
       "7     $1,509,175.45\n",
       "8     $4,138,548.00\n",
       "9     $2,848,913.80\n",
       "10      $594,715.39\n",
       "11    $4,789,988.17\n",
       "12     $4,513,644.5\n",
       "13    $3,191,059.97\n",
       "14    $1,758,712.24\n",
       "15    $4,338,283.54\n",
       "16    $4,738,303.38\n",
       "17    $2,791,759.67\n",
       "18      $769,681.94\n",
       "19      $452,650.23\n",
       "dtype: object"
      ]
     },
     "execution_count": 88,
     "metadata": {},
     "output_type": "execute_result"
    }
   ],
   "source": [
    "numbers"
   ]
  },
  {
   "cell_type": "code",
   "execution_count": 87,
   "metadata": {},
   "outputs": [
    {
     "data": {
      "text/plain": [
       "pandas.core.series.Series"
      ]
     },
     "execution_count": 87,
     "metadata": {},
     "output_type": "execute_result"
    }
   ],
   "source": [
    "2# What is the data type of the series?\n",
    "type(numbers)"
   ]
  },
  {
   "cell_type": "code",
   "execution_count": 108,
   "metadata": {},
   "outputs": [
    {
     "data": {
      "text/plain": [
       "0      796459.41\n",
       "1         278.60\n",
       "2      482571.67\n",
       "3     4503915.98\n",
       "4     2121418.30\n",
       "5     1260813.30\n",
       "6       87231.01\n",
       "7     1509175.45\n",
       "8     4138548.00\n",
       "9     2848913.80\n",
       "10     594715.39\n",
       "11    4789988.17\n",
       "12    4513644.50\n",
       "13    3191059.97\n",
       "14    1758712.24\n",
       "15    4338283.54\n",
       "16    4738303.38\n",
       "17    2791759.67\n",
       "18     769681.94\n",
       "19     452650.23\n",
       "dtype: float64"
      ]
     },
     "execution_count": 108,
     "metadata": {},
     "output_type": "execute_result"
    }
   ],
   "source": [
    "#2 Use series operations to convert the series to a numeric data type.\n",
    "no_money_sign = numbers.str.replace(\"$\",\"\")\n",
    "no_commas = no_money_sign.str.replace(\",\",\"\")\n",
    "new_numbers = no_commas.astype(\"float\")\n",
    "new_numbers"
   ]
  },
  {
   "cell_type": "code",
   "execution_count": 114,
   "metadata": {},
   "outputs": [
    {
     "data": {
      "text/plain": [
       "0      796459.41\n",
       "1         278.60\n",
       "2      482571.67\n",
       "3     4503915.98\n",
       "4     2121418.30\n",
       "5     1260813.30\n",
       "6       87231.01\n",
       "7     1509175.45\n",
       "8     4138548.00\n",
       "9     2848913.80\n",
       "10     594715.39\n",
       "11    4789988.17\n",
       "12    4513644.50\n",
       "13    3191059.97\n",
       "14    1758712.24\n",
       "15    4338283.54\n",
       "16    4738303.38\n",
       "17    2791759.67\n",
       "18     769681.94\n",
       "19     452650.23\n",
       "dtype: float64"
      ]
     },
     "execution_count": 114,
     "metadata": {},
     "output_type": "execute_result"
    }
   ],
   "source": [
    "#Alt way to get numbers\n",
    "floats = numbers.str.replace(\"$\",\"\").str.replace(\",\",\"\").astype(\"float\")\n",
    "floats"
   ]
  },
  {
   "cell_type": "code",
   "execution_count": 115,
   "metadata": {},
   "outputs": [
    {
     "data": {
      "text/plain": [
       "4789988.17"
      ]
     },
     "execution_count": 115,
     "metadata": {},
     "output_type": "execute_result"
    }
   ],
   "source": [
    "#2 What is the maximum value? The minimum?\n",
    "floats.max()"
   ]
  },
  {
   "cell_type": "code",
   "execution_count": 116,
   "metadata": {},
   "outputs": [
    {
     "data": {
      "text/plain": [
       "278.6"
      ]
     },
     "execution_count": 116,
     "metadata": {},
     "output_type": "execute_result"
    }
   ],
   "source": [
    "floats.min()"
   ]
  },
  {
   "cell_type": "code",
   "execution_count": 122,
   "metadata": {},
   "outputs": [
    {
     "data": {
      "text/plain": [
       "(-4511.11, 1197705.993]       7\n",
       "(3592560.778, 4789988.17]     6\n",
       "(1197705.993, 2395133.385]    4\n",
       "(2395133.385, 3592560.778]    3\n",
       "dtype: int64"
      ]
     },
     "execution_count": 122,
     "metadata": {},
     "output_type": "execute_result"
    }
   ],
   "source": [
    "#2 Bin the data into 4 equally sized intervals and show how many values fall into each bin.\n",
    "bins = pd.cut(floats,4)\n",
    "my_bins = bins.value_counts()\n",
    "my_bins"
   ]
  },
  {
   "cell_type": "code",
   "execution_count": 10,
   "metadata": {},
   "outputs": [],
   "source": [
    "#2 Plot a histogram of the data. Be sure to include a title and axis labels.\n",
    "import matplotlib.pyplot as plt"
   ]
  },
  {
   "cell_type": "code",
   "execution_count": 135,
   "metadata": {},
   "outputs": [
    {
     "data": {
      "image/png": "[encoded data removed]",
      "text/plain": [
       "<Figure size 432x288 with 1 Axes>"
      ]
     },
     "metadata": {
      "needs_background": "light"
     },
     "output_type": "display_data"
    }
   ],
   "source": [
    "plt.hist(my_bins)\n",
    "\n",
    "plt.show()"
   ]
  },
  {
   "cell_type": "code",
   "execution_count": 136,
   "metadata": {},
   "outputs": [
    {
     "ename": "TypeError",
     "evalue": "bar() missing 1 required positional argument: 'height'",
     "output_type": "error",
     "traceback": [
      "\u001b[0;31m---------------------------------------------------------------------------\u001b[0m",
      "\u001b[0;31mTypeError\u001b[0m                                 Traceback (most recent call last)",
      "\u001b[0;32m<ipython-input-136-986808ad4d56>\u001b[0m in \u001b[0;36m<module>\u001b[0;34m\u001b[0m\n\u001b[0;32m----> 1\u001b[0;31m \u001b[0mplt\u001b[0m\u001b[0;34m.\u001b[0m\u001b[0mbar\u001b[0m\u001b[0;34m(\u001b[0m\u001b[0mmy_bins\u001b[0m\u001b[0;34m)\u001b[0m\u001b[0;34m\u001b[0m\u001b[0;34m\u001b[0m\u001b[0m\n\u001b[0m",
      "\u001b[0;31mTypeError\u001b[0m: bar() missing 1 required positional argument: 'height'"
     ]
    }
   ],
   "source": [
    "plt.bar(my_bins)\n"
   ]
  },
  {
   "cell_type": "code",
   "execution_count": 3,
   "metadata": {},
   "outputs": [],
   "source": [
    "#3. Use pandas to create a Series from the following exam scores:\n",
    "scores = [60, 86, 75, 62, 93, 71, 60, 83, 95, 78, 65, 72, 69, 81, 96, 80, 85, 92, 82, 78]\n",
    "scores = pd.Series(scores)"
   ]
  },
  {
   "cell_type": "code",
   "execution_count": 4,
   "metadata": {},
   "outputs": [
    {
     "data": {
      "text/plain": [
       "60"
      ]
     },
     "execution_count": 4,
     "metadata": {},
     "output_type": "execute_result"
    }
   ],
   "source": [
    "# What is the minimum exam score? The max, mean, median?\n",
    "min(scores)"
   ]
  },
  {
   "cell_type": "code",
   "execution_count": 5,
   "metadata": {},
   "outputs": [
    {
     "data": {
      "text/plain": [
       "96"
      ]
     },
     "execution_count": 5,
     "metadata": {},
     "output_type": "execute_result"
    }
   ],
   "source": [
    "max(scores)"
   ]
  },
  {
   "cell_type": "code",
   "execution_count": 6,
   "metadata": {},
   "outputs": [
    {
     "data": {
      "text/plain": [
       "78.15"
      ]
     },
     "execution_count": 6,
     "metadata": {},
     "output_type": "execute_result"
    }
   ],
   "source": [
    "sum(scores)/len(scores)"
   ]
  },
  {
   "cell_type": "code",
   "execution_count": 9,
   "metadata": {},
   "outputs": [
    {
     "data": {
      "text/plain": [
       "79.0"
      ]
     },
     "execution_count": 9,
     "metadata": {},
     "output_type": "execute_result"
    }
   ],
   "source": [
    "import statistics\n",
    "statistics.median(scores)"
   ]
  },
  {
   "cell_type": "code",
   "execution_count": 12,
   "metadata": {},
   "outputs": [
    {
     "data": {
      "image/png": "[encoded data removed]",
      "text/plain": [
       "<Figure size 432x288 with 1 Axes>"
      ]
     },
     "metadata": {
      "needs_background": "light"
     },
     "output_type": "display_data"
    }
   ],
   "source": [
    "#3 Plot a histogram of the scores.\n",
    "plt.hist(scores)\n",
    "plt.show()"
   ]
  },
  {
   "cell_type": "code",
   "execution_count": 22,
   "metadata": {},
   "outputs": [
    {
     "data": {
      "text/plain": [
       "0     F\n",
       "1     B\n",
       "2     C\n",
       "3     D\n",
       "4     A\n",
       "5     C\n",
       "6     F\n",
       "7     B\n",
       "8     A\n",
       "9     C\n",
       "10    D\n",
       "11    C\n",
       "12    D\n",
       "13    B\n",
       "14    A\n",
       "15    C\n",
       "16    B\n",
       "17    A\n",
       "18    B\n",
       "19    C\n",
       "dtype: category\n",
       "Categories (5, object): [F < D < C < B < A]"
      ]
     },
     "execution_count": 22,
     "metadata": {},
     "output_type": "execute_result"
    }
   ],
   "source": [
    "# Convert each of the numbers above into a letter grade. For example, 86 should be a 'B' and 95 should \n",
    "# be an 'A'.\n",
    "#Use the cut function pd.cut(Series, bins, labels)\n",
    "grades = pd.cut(scores, bins = [0, 60, 70, 80, 90, 100], labels = ['F','D','C','B','A'])\n",
    "grades"
   ]
  },
  {
   "cell_type": "code",
   "execution_count": 24,
   "metadata": {},
   "outputs": [
    {
     "data": {
      "image/png": "[encoded data removed]",
      "text/plain": [
       "<Figure size 432x288 with 1 Axes>"
      ]
     },
     "metadata": {
      "needs_background": "light"
     },
     "output_type": "display_data"
    }
   ],
   "source": [
    "plt.title(\"Letter Grades\")\n",
    "plt.xlabel(\"Grade\")\n",
    "plt.ylabel(\"Frequency\")\n",
    "plt.hist(grades)\n",
    "plt.show()"
   ]
  },
  {
   "cell_type": "code",
   "execution_count": 28,
   "metadata": {},
   "outputs": [
    {
     "data": {
      "text/plain": [
       "0      64\n",
       "1      90\n",
       "2      79\n",
       "3      66\n",
       "4      97\n",
       "5      75\n",
       "6      64\n",
       "7      87\n",
       "8      99\n",
       "9      82\n",
       "10     69\n",
       "11     76\n",
       "12     73\n",
       "13     85\n",
       "14    100\n",
       "15     84\n",
       "16     89\n",
       "17     96\n",
       "18     86\n",
       "19     82\n",
       "dtype: int64"
      ]
     },
     "execution_count": 28,
     "metadata": {},
     "output_type": "execute_result"
    }
   ],
   "source": [
    "# Write the code necessary to implement a curve. I.e. that grade closest to 100 should be converted\n",
    "# to a 100, and that many points should be given to every other score as well.\n",
    "#Need to see what the highest grade is to see how the grades will be curved\n",
    "max_score = scores.max()\n",
    "curve = 100 - max_score\n",
    "new_scores = curve + scores\n",
    "new_scores"
   ]
  },
  {
   "cell_type": "code",
   "execution_count": 32,
   "metadata": {},
   "outputs": [
    {
     "data": {
      "text/plain": [
       "y    13\n",
       "p    12\n",
       "w    10\n",
       "k     9\n",
       "b     9\n",
       "m     9\n",
       "n     9\n",
       "h     8\n",
       "q     8\n",
       "c     8\n",
       "o     8\n",
       "a     8\n",
       "x     8\n",
       "r     8\n",
       "d     8\n",
       "t     7\n",
       "z     7\n",
       "v     7\n",
       "u     7\n",
       "f     6\n",
       "e     6\n",
       "j     6\n",
       "s     5\n",
       "g     5\n",
       "i     5\n",
       "l     4\n",
       "dtype: int64"
      ]
     },
     "execution_count": 32,
     "metadata": {},
     "output_type": "execute_result"
    }
   ],
   "source": [
    "# Use pandas to create a Series from the following string:\n",
    "long_string = list('hnvidduckkqxwymbimkccexbkmqygkxoyndmcxnwqarhyffsjpsrabtjzsypmzadfavyrnndndvswreauxovncxtwzpwejilzjrmmbbgbyxvjtewqthafnbkqplarokkyydtubbmnexoypulzwfhqvckdpqtpoppzqrmcvhhpwgjwupgzhiofohawytlsiyecuproguy')\n",
    "long_string = pd.Series(long_string)\n",
    "long_string.value_counts()"
   ]
  },
  {
   "cell_type": "code",
   "execution_count": 37,
   "metadata": {},
   "outputs": [
    {
     "data": {
      "text/plain": [
       "'y'"
      ]
     },
     "execution_count": 37,
     "metadata": {},
     "output_type": "execute_result"
    }
   ],
   "source": [
    "#4. What is the most frequently occuring letter? Least frequently occuring?\n",
    "import statistics\n",
    "statistics.mode(long_string)"
   ]
  },
  {
   "cell_type": "code",
   "execution_count": 42,
   "metadata": {},
   "outputs": [
    {
     "data": {
      "text/plain": [
       "y    13\n",
       "dtype: int64"
      ]
     },
     "execution_count": 42,
     "metadata": {},
     "output_type": "execute_result"
    }
   ],
   "source": [
    "#you can also use the value_counts().iloc[0] or .iloc[-1] for most and least occuring. Double [[]] on .iloc\n",
    "# will show the letter and also the count\n",
    "long_string.value_counts().iloc[[0]]"
   ]
  },
  {
   "cell_type": "code",
   "execution_count": 43,
   "metadata": {},
   "outputs": [
    {
     "data": {
      "text/plain": [
       "l    4\n",
       "dtype: int64"
      ]
     },
     "execution_count": 43,
     "metadata": {},
     "output_type": "execute_result"
    }
   ],
   "source": [
    "long_string.value_counts().iloc[[-1]]"
   ]
  },
  {
   "cell_type": "code",
   "execution_count": 45,
   "metadata": {},
   "outputs": [
    {
     "data": {
      "text/plain": [
       "34"
      ]
     },
     "execution_count": 45,
     "metadata": {},
     "output_type": "execute_result"
    }
   ],
   "source": [
    "# How many vowels are in the list?\n",
    "sum(long_string.str.count(\"[aeiou]\"))"
   ]
  },
  {
   "cell_type": "code",
   "execution_count": 46,
   "metadata": {},
   "outputs": [
    {
     "data": {
      "text/plain": [
       "166"
      ]
     },
     "execution_count": 46,
     "metadata": {},
     "output_type": "execute_result"
    }
   ],
   "source": [
    "# How many consonants are in the list? ^ will give use the letters not in\n",
    "sum(long_string.str.count(\"[^aeiou]\"))"
   ]
  },
  {
   "cell_type": "code",
   "execution_count": 47,
   "metadata": {},
   "outputs": [
    {
     "data": {
      "text/plain": [
       "0      H\n",
       "1      N\n",
       "2      V\n",
       "3      I\n",
       "4      D\n",
       "      ..\n",
       "195    R\n",
       "196    O\n",
       "197    G\n",
       "198    U\n",
       "199    Y\n",
       "Length: 200, dtype: object"
      ]
     },
     "execution_count": 47,
     "metadata": {},
     "output_type": "execute_result"
    }
   ],
   "source": [
    "# Create a series that has all of the same letters, but uppercased\n",
    "long_string.str.upper()"
   ]
  },
  {
   "cell_type": "code",
   "execution_count": 51,
   "metadata": {},
   "outputs": [
    {
     "data": {
      "text/plain": [
       "y    13\n",
       "p    12\n",
       "w    10\n",
       "k     9\n",
       "b     9\n",
       "m     9\n",
       "dtype: int64"
      ]
     },
     "execution_count": 51,
     "metadata": {},
     "output_type": "execute_result"
    }
   ],
   "source": [
    "# Create a bar plot of the frequencies of the 6 most frequently occuring letters.\n",
    "# we need to make a variable to show the 6 most frequently occuring letters. Use value_counts() and .head(6)\n",
    "freq = long_string.value_counts().head(6)\n",
    "freq"
   ]
  },
  {
   "cell_type": "code",
   "execution_count": 52,
   "metadata": {},
   "outputs": [
    {
     "data": {
      "text/plain": [
       "<BarContainer object of 6 artists>"
      ]
     },
     "execution_count": 52,
     "metadata": {},
     "output_type": "execute_result"
    },
    {
     "data": {
      "image/png": "[encoded data removed]",
      "text/plain": [
       "<Figure size 432x288 with 1 Axes>"
      ]
     },
     "metadata": {
      "needs_background": "light"
     },
     "output_type": "display_data"
    }
   ],
   "source": [
    "# Create a bar plot of the frequencies of the 6 most frequently occuring letters.\n",
    "plt.title(\"Top 6 Occuring Letters\")\n",
    "plt.xlabel(\"Letters\")\n",
    "plt.ylabel(\"Frequency\")\n",
    "x = freq.index\n",
    "y = freq\n",
    "plt.bar(x,y)"
   ]
  },
  {
   "cell_type": "code",
   "execution_count": 53,
   "metadata": {},
   "outputs": [],
   "source": [
    "# 17 list comprehension problems in python using pandas\n",
    "\n",
    "fruits = ['mango', 'kiwi', 'strawberry', 'guava', 'pineapple', 'mandarin orange']\n",
    "\n",
    "numbers = [2, 3, 4, 5, 6, 7, 8, 9, 10, 11, 13, 17, 19, 23, 256, -8, -4, -2, 5, -9]"
   ]
  },
  {
   "cell_type": "code",
   "execution_count": 62,
   "metadata": {},
   "outputs": [
    {
     "data": {
      "text/plain": [
       "[0       3\n",
       " 1       4\n",
       " 2       5\n",
       " 3       6\n",
       " 4       7\n",
       " 5       8\n",
       " 6       9\n",
       " 7      10\n",
       " 8      11\n",
       " 9      12\n",
       " 10     14\n",
       " 11     18\n",
       " 12     20\n",
       " 13     24\n",
       " 14    257\n",
       " 15     -7\n",
       " 16     -3\n",
       " 17     -1\n",
       " 18      6\n",
       " 19     -8\n",
       " dtype: int64,\n",
       " 0       3\n",
       " 1       4\n",
       " 2       5\n",
       " 3       6\n",
       " 4       7\n",
       " 5       8\n",
       " 6       9\n",
       " 7      10\n",
       " 8      11\n",
       " 9      12\n",
       " 10     14\n",
       " 11     18\n",
       " 12     20\n",
       " 13     24\n",
       " 14    257\n",
       " 15     -7\n",
       " 16     -3\n",
       " 17     -1\n",
       " 18      6\n",
       " 19     -8\n",
       " dtype: int64,\n",
       " 0       3\n",
       " 1       4\n",
       " 2       5\n",
       " 3       6\n",
       " 4       7\n",
       " 5       8\n",
       " 6       9\n",
       " 7      10\n",
       " 8      11\n",
       " 9      12\n",
       " 10     14\n",
       " 11     18\n",
       " 12     20\n",
       " 13     24\n",
       " 14    257\n",
       " 15     -7\n",
       " 16     -3\n",
       " 17     -1\n",
       " 18      6\n",
       " 19     -8\n",
       " dtype: int64,\n",
       " 0       3\n",
       " 1       4\n",
       " 2       5\n",
       " 3       6\n",
       " 4       7\n",
       " 5       8\n",
       " 6       9\n",
       " 7      10\n",
       " 8      11\n",
       " 9      12\n",
       " 10     14\n",
       " 11     18\n",
       " 12     20\n",
       " 13     24\n",
       " 14    257\n",
       " 15     -7\n",
       " 16     -3\n",
       " 17     -1\n",
       " 18      6\n",
       " 19     -8\n",
       " dtype: int64,\n",
       " 0       3\n",
       " 1       4\n",
       " 2       5\n",
       " 3       6\n",
       " 4       7\n",
       " 5       8\n",
       " 6       9\n",
       " 7      10\n",
       " 8      11\n",
       " 9      12\n",
       " 10     14\n",
       " 11     18\n",
       " 12     20\n",
       " 13     24\n",
       " 14    257\n",
       " 15     -7\n",
       " 16     -3\n",
       " 17     -1\n",
       " 18      6\n",
       " 19     -8\n",
       " dtype: int64,\n",
       " 0       3\n",
       " 1       4\n",
       " 2       5\n",
       " 3       6\n",
       " 4       7\n",
       " 5       8\n",
       " 6       9\n",
       " 7      10\n",
       " 8      11\n",
       " 9      12\n",
       " 10     14\n",
       " 11     18\n",
       " 12     20\n",
       " 13     24\n",
       " 14    257\n",
       " 15     -7\n",
       " 16     -3\n",
       " 17     -1\n",
       " 18      6\n",
       " 19     -8\n",
       " dtype: int64,\n",
       " 0       3\n",
       " 1       4\n",
       " 2       5\n",
       " 3       6\n",
       " 4       7\n",
       " 5       8\n",
       " 6       9\n",
       " 7      10\n",
       " 8      11\n",
       " 9      12\n",
       " 10     14\n",
       " 11     18\n",
       " 12     20\n",
       " 13     24\n",
       " 14    257\n",
       " 15     -7\n",
       " 16     -3\n",
       " 17     -1\n",
       " 18      6\n",
       " 19     -8\n",
       " dtype: int64,\n",
       " 0       3\n",
       " 1       4\n",
       " 2       5\n",
       " 3       6\n",
       " 4       7\n",
       " 5       8\n",
       " 6       9\n",
       " 7      10\n",
       " 8      11\n",
       " 9      12\n",
       " 10     14\n",
       " 11     18\n",
       " 12     20\n",
       " 13     24\n",
       " 14    257\n",
       " 15     -7\n",
       " 16     -3\n",
       " 17     -1\n",
       " 18      6\n",
       " 19     -8\n",
       " dtype: int64,\n",
       " 0       3\n",
       " 1       4\n",
       " 2       5\n",
       " 3       6\n",
       " 4       7\n",
       " 5       8\n",
       " 6       9\n",
       " 7      10\n",
       " 8      11\n",
       " 9      12\n",
       " 10     14\n",
       " 11     18\n",
       " 12     20\n",
       " 13     24\n",
       " 14    257\n",
       " 15     -7\n",
       " 16     -3\n",
       " 17     -1\n",
       " 18      6\n",
       " 19     -8\n",
       " dtype: int64,\n",
       " 0       3\n",
       " 1       4\n",
       " 2       5\n",
       " 3       6\n",
       " 4       7\n",
       " 5       8\n",
       " 6       9\n",
       " 7      10\n",
       " 8      11\n",
       " 9      12\n",
       " 10     14\n",
       " 11     18\n",
       " 12     20\n",
       " 13     24\n",
       " 14    257\n",
       " 15     -7\n",
       " 16     -3\n",
       " 17     -1\n",
       " 18      6\n",
       " 19     -8\n",
       " dtype: int64,\n",
       " 0       3\n",
       " 1       4\n",
       " 2       5\n",
       " 3       6\n",
       " 4       7\n",
       " 5       8\n",
       " 6       9\n",
       " 7      10\n",
       " 8      11\n",
       " 9      12\n",
       " 10     14\n",
       " 11     18\n",
       " 12     20\n",
       " 13     24\n",
       " 14    257\n",
       " 15     -7\n",
       " 16     -3\n",
       " 17     -1\n",
       " 18      6\n",
       " 19     -8\n",
       " dtype: int64,\n",
       " 0       3\n",
       " 1       4\n",
       " 2       5\n",
       " 3       6\n",
       " 4       7\n",
       " 5       8\n",
       " 6       9\n",
       " 7      10\n",
       " 8      11\n",
       " 9      12\n",
       " 10     14\n",
       " 11     18\n",
       " 12     20\n",
       " 13     24\n",
       " 14    257\n",
       " 15     -7\n",
       " 16     -3\n",
       " 17     -1\n",
       " 18      6\n",
       " 19     -8\n",
       " dtype: int64,\n",
       " 0       3\n",
       " 1       4\n",
       " 2       5\n",
       " 3       6\n",
       " 4       7\n",
       " 5       8\n",
       " 6       9\n",
       " 7      10\n",
       " 8      11\n",
       " 9      12\n",
       " 10     14\n",
       " 11     18\n",
       " 12     20\n",
       " 13     24\n",
       " 14    257\n",
       " 15     -7\n",
       " 16     -3\n",
       " 17     -1\n",
       " 18      6\n",
       " 19     -8\n",
       " dtype: int64,\n",
       " 0       3\n",
       " 1       4\n",
       " 2       5\n",
       " 3       6\n",
       " 4       7\n",
       " 5       8\n",
       " 6       9\n",
       " 7      10\n",
       " 8      11\n",
       " 9      12\n",
       " 10     14\n",
       " 11     18\n",
       " 12     20\n",
       " 13     24\n",
       " 14    257\n",
       " 15     -7\n",
       " 16     -3\n",
       " 17     -1\n",
       " 18      6\n",
       " 19     -8\n",
       " dtype: int64,\n",
       " 0       3\n",
       " 1       4\n",
       " 2       5\n",
       " 3       6\n",
       " 4       7\n",
       " 5       8\n",
       " 6       9\n",
       " 7      10\n",
       " 8      11\n",
       " 9      12\n",
       " 10     14\n",
       " 11     18\n",
       " 12     20\n",
       " 13     24\n",
       " 14    257\n",
       " 15     -7\n",
       " 16     -3\n",
       " 17     -1\n",
       " 18      6\n",
       " 19     -8\n",
       " dtype: int64,\n",
       " 0       3\n",
       " 1       4\n",
       " 2       5\n",
       " 3       6\n",
       " 4       7\n",
       " 5       8\n",
       " 6       9\n",
       " 7      10\n",
       " 8      11\n",
       " 9      12\n",
       " 10     14\n",
       " 11     18\n",
       " 12     20\n",
       " 13     24\n",
       " 14    257\n",
       " 15     -7\n",
       " 16     -3\n",
       " 17     -1\n",
       " 18      6\n",
       " 19     -8\n",
       " dtype: int64,\n",
       " 0       3\n",
       " 1       4\n",
       " 2       5\n",
       " 3       6\n",
       " 4       7\n",
       " 5       8\n",
       " 6       9\n",
       " 7      10\n",
       " 8      11\n",
       " 9      12\n",
       " 10     14\n",
       " 11     18\n",
       " 12     20\n",
       " 13     24\n",
       " 14    257\n",
       " 15     -7\n",
       " 16     -3\n",
       " 17     -1\n",
       " 18      6\n",
       " 19     -8\n",
       " dtype: int64,\n",
       " 0       3\n",
       " 1       4\n",
       " 2       5\n",
       " 3       6\n",
       " 4       7\n",
       " 5       8\n",
       " 6       9\n",
       " 7      10\n",
       " 8      11\n",
       " 9      12\n",
       " 10     14\n",
       " 11     18\n",
       " 12     20\n",
       " 13     24\n",
       " 14    257\n",
       " 15     -7\n",
       " 16     -3\n",
       " 17     -1\n",
       " 18      6\n",
       " 19     -8\n",
       " dtype: int64,\n",
       " 0       3\n",
       " 1       4\n",
       " 2       5\n",
       " 3       6\n",
       " 4       7\n",
       " 5       8\n",
       " 6       9\n",
       " 7      10\n",
       " 8      11\n",
       " 9      12\n",
       " 10     14\n",
       " 11     18\n",
       " 12     20\n",
       " 13     24\n",
       " 14    257\n",
       " 15     -7\n",
       " 16     -3\n",
       " 17     -1\n",
       " 18      6\n",
       " 19     -8\n",
       " dtype: int64,\n",
       " 0       3\n",
       " 1       4\n",
       " 2       5\n",
       " 3       6\n",
       " 4       7\n",
       " 5       8\n",
       " 6       9\n",
       " 7      10\n",
       " 8      11\n",
       " 9      12\n",
       " 10     14\n",
       " 11     18\n",
       " 12     20\n",
       " 13     24\n",
       " 14    257\n",
       " 15     -7\n",
       " 16     -3\n",
       " 17     -1\n",
       " 18      6\n",
       " 19     -8\n",
       " dtype: int64]"
      ]
     },
     "execution_count": 62,
     "metadata": {},
     "output_type": "execute_result"
    }
   ],
   "source": [
    "# Example for loop solution to add 1 to each number in the list\n",
    "numbers = pd.Series(numbers)    # Create a pandas series\n",
    "list = []\n",
    "for x in numbers:\n",
    "    list.append(numbers + 1)\n",
    "list\n"
   ]
  },
  {
   "cell_type": "code",
   "execution_count": 63,
   "metadata": {},
   "outputs": [
    {
     "data": {
      "text/plain": [
       "[3, 4, 5, 6, 7, 8, 9, 10, 11, 12, 14, 18, 20, 24, 257, -7, -3, -1, 6, -8]"
      ]
     },
     "execution_count": 63,
     "metadata": {},
     "output_type": "execute_result"
    }
   ],
   "source": [
    "# Example of using a list comprehension to create a list of the numbers plus one.\n",
    "num_plus_1 = [num + 1 for num in numbers]\n",
    "num_plus_1"
   ]
  },
  {
   "cell_type": "code",
   "execution_count": 64,
   "metadata": {},
   "outputs": [],
   "source": [
    "# Example code that creates a list of all of the list of strings in fruits and uppercases every string\n",
    "fruits = pd.Series(fruits)"
   ]
  },
  {
   "cell_type": "code",
   "execution_count": 66,
   "metadata": {},
   "outputs": [
    {
     "data": {
      "text/plain": [
       "0              MANGO\n",
       "1               KIWI\n",
       "2         STRAWBERRY\n",
       "3              GUAVA\n",
       "4          PINEAPPLE\n",
       "5    MANDARIN ORANGE\n",
       "dtype: object"
      ]
     },
     "execution_count": 66,
     "metadata": {},
     "output_type": "execute_result"
    }
   ],
   "source": [
    "fruits.str.upper()"
   ]
  },
  {
   "cell_type": "code",
   "execution_count": 67,
   "metadata": {},
   "outputs": [
    {
     "data": {
      "text/plain": [
       "0              Mango\n",
       "1               Kiwi\n",
       "2         Strawberry\n",
       "3              Guava\n",
       "4          Pineapple\n",
       "5    Mandarin orange\n",
       "dtype: object"
      ]
     },
     "execution_count": 67,
     "metadata": {},
     "output_type": "execute_result"
    }
   ],
   "source": [
    "# Exercise 2 - create a variable named capitalized_fruits and use list comprehension syntax to produce \n",
    "# output like ['Mango', 'Kiwi', 'Strawberry', etc...]\n",
    "fruits.str.capitalize()\n"
   ]
  },
  {
   "cell_type": "code",
   "execution_count": 72,
   "metadata": {},
   "outputs": [
    {
     "data": {
      "text/plain": [
       "0              mango\n",
       "1               kiwi\n",
       "2         strawberry\n",
       "3              guava\n",
       "4          pineapple\n",
       "5    mandarin orange\n",
       "dtype: object"
      ]
     },
     "execution_count": 72,
     "metadata": {},
     "output_type": "execute_result"
    }
   ],
   "source": [
    "# Exercise 3 - Use a list comprehension to make a variable named fruits_with_more_than_two_vowels. \n",
    "# Hint: You'll need a way to check if something is a vowel.\n",
    "vowels = fruits.str.count(\"[aeiou]\")\n",
    "fruits_with_more_than_two_vowels = (vowels >=2)\n",
    "fruits[fruits_with_more_than_two_vowels]"
   ]
  },
  {
   "cell_type": "code",
   "execution_count": 75,
   "metadata": {},
   "outputs": [
    {
     "data": {
      "text/plain": [
       "0         mango\n",
       "1          kiwi\n",
       "2    strawberry\n",
       "dtype: object"
      ]
     },
     "execution_count": 75,
     "metadata": {},
     "output_type": "execute_result"
    }
   ],
   "source": [
    "# Exercise 4 - make a variable named fruits_with_only_two_vowels. The result should be \n",
    "# ['mango', 'kiwi', 'strawberry']\n",
    "fruits_with_only_two_vowels = (vowels ==2)\n",
    "fruits[fruits_with_only_two_vowels]"
   ]
  },
  {
   "cell_type": "code",
   "execution_count": 82,
   "metadata": {},
   "outputs": [
    {
     "data": {
      "text/plain": [
       "2         strawberry\n",
       "4          pineapple\n",
       "5    mandarin orange\n",
       "dtype: object"
      ]
     },
     "execution_count": 82,
     "metadata": {},
     "output_type": "execute_result"
    }
   ],
   "source": [
    "# Exercise 5 - make a list that contains each fruit with more than 5 characters\n",
    "five_or_more_characters = fruits.str.len() > 5\n",
    "fruits[five_or_more_characters]"
   ]
  },
  {
   "cell_type": "code",
   "execution_count": 83,
   "metadata": {},
   "outputs": [
    {
     "data": {
      "text/plain": [
       "0    mango\n",
       "3    guava\n",
       "dtype: object"
      ]
     },
     "execution_count": 83,
     "metadata": {},
     "output_type": "execute_result"
    }
   ],
   "source": [
    "# Exercise 6 - make a list that contains each fruit with exactly 5 characters\n",
    "exactly_5_chars = fruits.str.len() ==5\n",
    "fruits[exactly_5_chars]"
   ]
  },
  {
   "cell_type": "code",
   "execution_count": 84,
   "metadata": {},
   "outputs": [
    {
     "data": {
      "text/plain": [
       "1    kiwi\n",
       "dtype: object"
      ]
     },
     "execution_count": 84,
     "metadata": {},
     "output_type": "execute_result"
    }
   ],
   "source": [
    "# Exercise 7 - Make a list that contains fruits that have less than 5 characters\n",
    "less_than_5 = fruits.str.len() <5\n",
    "fruits[less_than_5]"
   ]
  },
  {
   "cell_type": "code",
   "execution_count": 87,
   "metadata": {},
   "outputs": [
    {
     "data": {
      "text/plain": [
       "0     5\n",
       "1     4\n",
       "2    10\n",
       "3     5\n",
       "4     9\n",
       "5    15\n",
       "dtype: int64"
      ]
     },
     "execution_count": 87,
     "metadata": {},
     "output_type": "execute_result"
    }
   ],
   "source": [
    "# Exercise 8 - Make a list containing the number of characters in each fruit. Output would be [5, 4, 10, etc... ]\n",
    "length_of_fruits = fruits.str.len()\n",
    "length_of_fruits"
   ]
  },
  {
   "cell_type": "code",
   "execution_count": 90,
   "metadata": {},
   "outputs": [
    {
     "data": {
      "text/plain": [
       "0              mango\n",
       "2         strawberry\n",
       "3              guava\n",
       "4          pineapple\n",
       "5    mandarin orange\n",
       "dtype: object"
      ]
     },
     "execution_count": 90,
     "metadata": {},
     "output_type": "execute_result"
    }
   ],
   "source": [
    "# Exercise 9 - Make a variable named fruits_with_letter_a that contains a list of only the fruits \n",
    "# that contain the letter \"a\"\n",
    "fruits_w_letter_a = fruits.str.count(\"a\") > 0\n",
    "fruits[fruits_w_letter_a]"
   ]
  },
  {
   "cell_type": "code",
   "execution_count": 91,
   "metadata": {},
   "outputs": [
    {
     "data": {
      "text/plain": [
       "0       2\n",
       "2       4\n",
       "4       6\n",
       "6       8\n",
       "8      10\n",
       "14    256\n",
       "15     -8\n",
       "16     -4\n",
       "17     -2\n",
       "dtype: int64"
      ]
     },
     "execution_count": 91,
     "metadata": {},
     "output_type": "execute_result"
    }
   ],
   "source": [
    "# Exercise 10 - Make a variable named even_numbers that holds only the even numbers \n",
    "even_numbers = numbers % 2 == 0\n",
    "numbers[even_numbers]"
   ]
  },
  {
   "cell_type": "code",
   "execution_count": 92,
   "metadata": {},
   "outputs": [
    {
     "data": {
      "text/plain": [
       "1      3\n",
       "3      5\n",
       "5      7\n",
       "7      9\n",
       "9     11\n",
       "10    13\n",
       "11    17\n",
       "12    19\n",
       "13    23\n",
       "18     5\n",
       "19    -9\n",
       "dtype: int64"
      ]
     },
     "execution_count": 92,
     "metadata": {},
     "output_type": "execute_result"
    }
   ],
   "source": [
    "# Exercise 11 - Make a variable named odd_numbers that holds only the odd numbers\n",
    "odd_numbers = numbers % 2 == 1\n",
    "numbers[odd_numbers]"
   ]
  },
  {
   "cell_type": "code",
   "execution_count": 94,
   "metadata": {},
   "outputs": [
    {
     "data": {
      "text/plain": [
       "0       2\n",
       "1       3\n",
       "2       4\n",
       "3       5\n",
       "4       6\n",
       "5       7\n",
       "6       8\n",
       "7       9\n",
       "8      10\n",
       "9      11\n",
       "10     13\n",
       "11     17\n",
       "12     19\n",
       "13     23\n",
       "14    256\n",
       "18      5\n",
       "dtype: int64"
      ]
     },
     "execution_count": 94,
     "metadata": {},
     "output_type": "execute_result"
    }
   ],
   "source": [
    "# Exercise 12 - Make a variable named positive_numbers that holds only the positive numbers\n",
    "pos_num = numbers > 0\n",
    "numbers[pos_num]"
   ]
  },
  {
   "cell_type": "code",
   "execution_count": 95,
   "metadata": {},
   "outputs": [
    {
     "data": {
      "text/plain": [
       "15   -8\n",
       "16   -4\n",
       "17   -2\n",
       "19   -9\n",
       "dtype: int64"
      ]
     },
     "execution_count": 95,
     "metadata": {},
     "output_type": "execute_result"
    }
   ],
   "source": [
    "# Exercise 13 - Make a variable named negative_numbers that holds only the negative numbers\n",
    "neg_num = numbers < 0\n",
    "numbers[neg_num]"
   ]
  },
  {
   "cell_type": "code",
   "execution_count": 98,
   "metadata": {},
   "outputs": [
    {
     "data": {
      "text/plain": [
       "8      10\n",
       "9      11\n",
       "10     13\n",
       "11     17\n",
       "12     19\n",
       "13     23\n",
       "14    256\n",
       "dtype: int64"
      ]
     },
     "execution_count": 98,
     "metadata": {},
     "output_type": "execute_result"
    }
   ],
   "source": [
    "# Exercise 14 - use a list comprehension w/ a conditional in order to produce a list of numbers with \n",
    "# 2 or more numerals\n",
    "num_w_2_digits = abs(numbers > 9)\n",
    "numbers[num_w_2_digits]"
   ]
  },
  {
   "cell_type": "code",
   "execution_count": null,
   "metadata": {},
   "outputs": [],
   "source": []
  }
 ],
 "metadata": {
  "kernelspec": {
   "display_name": "Python 3",
   "language": "python",
   "name": "python3"
  },
  "language_info": {
   "codemirror_mode": {
    "name": "ipython",
    "version": 3
   },
   "file_extension": ".py",
   "mimetype": "text/x-python",
   "name": "python",
   "nbconvert_exporter": "python",
   "pygments_lexer": "ipython3",
   "version": "3.7.6"
  }
 },
 "nbformat": 4,
 "nbformat_minor": 4
}
