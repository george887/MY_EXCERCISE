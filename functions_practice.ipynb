{
 "cells": [
  {
   "cell_type": "code",
   "execution_count": 5,
   "metadata": {},
   "outputs": [
    {
     "name": "stdout",
     "output_type": "stream",
     "text": [
      "True\n",
      "True\n"
     ]
    }
   ],
   "source": [
    "#1. Define a function named is_two. It should accept one input and return True if the assed input is either \n",
    "# the number or the string 2, False otherwise.\n",
    "def is_two(x):\n",
    "    if int(x) == 2 or str(x) == 2:\n",
    "        return True\n",
    "    else:\n",
    "        return False\n",
    "print(is_two(\"2\"))\n",
    "print(is_two(2))"
   ]
  },
  {
   "cell_type": "code",
   "execution_count": 17,
   "metadata": {},
   "outputs": [
    {
     "name": "stdout",
     "output_type": "stream",
     "text": [
      "True\n",
      "True\n",
      "False\n"
     ]
    }
   ],
   "source": [
    "#2. Define a function named is_vowel. It should return True if the passed string is a vowel, False otherwise.\n",
    "def is_vowel(x):\n",
    "    if str(x).lower() in (\"a,e,i,o,u\"):\n",
    "        return True\n",
    "    else:\n",
    "        return False\n",
    "print(is_vowel(\"e\"))\n",
    "print(is_vowel(\"E\"))\n",
    "print(is_vowel(\"p\"))"
   ]
  },
  {
   "cell_type": "code",
   "execution_count": 22,
   "metadata": {},
   "outputs": [
    {
     "name": "stdout",
     "output_type": "stream",
     "text": [
      "False\n",
      "True\n",
      "False\n"
     ]
    }
   ],
   "source": [
    "#3. Define a function named is_consonant. It should return True if the passed string is a consonant, \n",
    "# False otherwise. Use your is_vowel function to accomplish this.\n",
    "def is_consonant(x):\n",
    "    if is_vowel(x):\n",
    "        return False\n",
    "    else:\n",
    "        return True\n",
    "print(is_consonant(\"A\"))\n",
    "print(is_consonant(\"B\"))\n",
    "print(is_consonant(\"e\"))"
   ]
  },
  {
   "cell_type": "code",
   "execution_count": 26,
   "metadata": {},
   "outputs": [
    {
     "name": "stdout",
     "output_type": "stream",
     "text": [
      "Cat\n",
      "ant\n",
      "Dog\n"
     ]
    }
   ],
   "source": [
    "#4. Define a function that accepts a string that is a word. The function should capitalize the first letter\n",
    "# of the word if the word starts with a consonant.\n",
    "def cap_first_letter(word):\n",
    "    if is_consonant(word[0]):\n",
    "        return word[0].upper() + word[1:]\n",
    "    else:\n",
    "        return word\n",
    "print(cap_first_letter(\"cat\"))\n",
    "print(cap_first_letter(\"ant\"))\n",
    "print(cap_first_letter(\"dog\"))"
   ]
  },
  {
   "cell_type": "code",
   "execution_count": 33,
   "metadata": {},
   "outputs": [
    {
     "name": "stdout",
     "output_type": "stream",
     "text": [
      "20.0\n",
      "9.9675\n"
     ]
    }
   ],
   "source": [
    "#5. Define a function named calculate_tip. It should accept a tip percentage (a number between 0 and 1) and\n",
    "# the bill total, and return the amount to tip.\n",
    "def calculate_tip(bill_total,tip_percent):\n",
    "    tip_amount = bill_total * tip_percent\n",
    "    return tip_amount\n",
    "print(calculate_tip(100,.2))\n",
    "print(calculate_tip(66.45,.15))"
   ]
  },
  {
   "cell_type": "code",
   "execution_count": 43,
   "metadata": {},
   "outputs": [
    {
     "data": {
      "text/plain": [
       "38.5"
      ]
     },
     "execution_count": 43,
     "metadata": {},
     "output_type": "execute_result"
    }
   ],
   "source": [
    "#6. Define a function named apply_discount. It should accept a original price, and a discount percentage, \n",
    "# and return the price after the discount is applied.\n",
    "def apply_discount(original_price, discount_percentage):\n",
    "    price = original_price - (original_price * discount_percentage)\n",
    "    return price\n",
    "apply_discount(55,.3)"
   ]
  },
  {
   "cell_type": "code",
   "execution_count": 42,
   "metadata": {},
   "outputs": [
    {
     "data": {
      "text/plain": [
       "'1000'"
      ]
     },
     "execution_count": 42,
     "metadata": {},
     "output_type": "execute_result"
    }
   ],
   "source": [
    "#7. Define a function named handle_commas. It should accept a string that is a number that contains commas\n",
    "# in it as input, and return a number as output.\n",
    "def handle_commas(x):\n",
    "    no_commas = x.replace(\",\",\"\")\n",
    "    return no_commas\n",
    "handle_commas(\"1,000\")"
   ]
  },
  {
   "cell_type": "code",
   "execution_count": 47,
   "metadata": {},
   "outputs": [
    {
     "data": {
      "text/plain": [
       "'F'"
      ]
     },
     "execution_count": 47,
     "metadata": {},
     "output_type": "execute_result"
    }
   ],
   "source": [
    "#8. Define a function named get_letter_grade. It should accept a number and return the letter grade associated\n",
    "# with that number (A-F).\n",
    "def get_letter_grade(grade):\n",
    "    if grade <= \"100\" and grade >= \"90\":\n",
    "        return \"A\"\n",
    "    elif grade <= \"89\" and grade >= \"80\":\n",
    "        return \"B\"\n",
    "    elif grade <= \"79\" and grade >= \"70\":\n",
    "        return \"C\"\n",
    "    elif grade <= \"69\" and grade >= \"60\":\n",
    "        return \"D\"\n",
    "    else:\n",
    "        return \"F\"\n",
    "get_letter_grade(\"50\")"
   ]
  },
  {
   "cell_type": "code",
   "execution_count": 52,
   "metadata": {},
   "outputs": [
    {
     "data": {
      "text/plain": [
       "'nttr'"
      ]
     },
     "execution_count": 52,
     "metadata": {},
     "output_type": "execute_result"
    }
   ],
   "source": [
    "#9. Define a function named remove_vowels that accepts a string and returns a string with all the vowels\n",
    "# removed.\n",
    "def remove_vowels(word):\n",
    "    vowels = (\"a\",\"e\",\"i\",\"o\",\"u\")\n",
    "    for char in word:\n",
    "        if char.lower() in vowels:      # Can put the .lower() function right before we replace the characters\n",
    "            word = word.replace(char,\"\")\n",
    "    return word\n",
    "remove_vowels(\"Anteater\")"
   ]
  },
  {
   "cell_type": "code",
   "execution_count": 57,
   "metadata": {},
   "outputs": [
    {
     "data": {
      "text/plain": [
       "'_acsc_34_'"
      ]
     },
     "execution_count": 57,
     "metadata": {},
     "output_type": "execute_result"
    }
   ],
   "source": [
    "#10. Define a function named normalize_name. It should accept a string and return a valid python identifier, \n",
    "# that is: anything that is not a valid python identifier should be removed\n",
    "# leading and trailing whitespace should be removed\n",
    "# everything should be lowercase\n",
    "# spaces should be replaced with underscores\n",
    "# for example:\n",
    "# Name will become name\n",
    "# First Name will become first_name\n",
    "# % Completed will become completed\n",
    "\n",
    "def normalize_name(word):\n",
    "    #.strip(\" \") remove empty spaces. .strip(\"0123456789\") removes starting and ending numbers\n",
    "    remove_invalid_py_id = (word.strip(\" \").strip(\"0123456789\").lower().replace(\" \", \"_\"))\n",
    "    remove_special_char = \"\"\n",
    "    for char in remove_invalid_py_id:\n",
    "        if char not in \"!@#$%^&*()+=-[]{}\\/|?.<>,`~\":\n",
    "            remove_special_char += char\n",
    "    return remove_special_char\n",
    "normalize_name(\"9 Acsc 34 *^*4\")"
   ]
  },
  {
   "cell_type": "code",
   "execution_count": 60,
   "metadata": {},
   "outputs": [
    {
     "data": {
      "text/plain": [
       "[3, 33, 73, 123]"
      ]
     },
     "execution_count": 60,
     "metadata": {},
     "output_type": "execute_result"
    }
   ],
   "source": [
    "#11. Write a function named cumulative_sum that accepts a list of numbers and returns a list that is the \n",
    "# cumulative sum of the numbers in the list.\n",
    "# cumulative_sum([1, 1, 1]) returns [1, 2, 3]\n",
    "#cumulative_sum([1, 2, 3, 4]) returns [1, 3, 6, 10]\n",
    "def cumulative_sum(num):\n",
    "    list=[]\n",
    "    list = [sum(num[0: x + 1]) for x in range(len(num))]\n",
    "    return list[1:]\n",
    "cumulative_sum([1,2,30,40,50])\n"
   ]
  },
  {
   "cell_type": "code",
   "execution_count": null,
   "metadata": {},
   "outputs": [],
   "source": []
  }
 ],
 "metadata": {
  "kernelspec": {
   "display_name": "Python 3",
   "language": "python",
   "name": "python3"
  },
  "language_info": {
   "codemirror_mode": {
    "name": "ipython",
    "version": 3
   },
   "file_extension": ".py",
   "mimetype": "text/x-python",
   "name": "python",
   "nbconvert_exporter": "python",
   "pygments_lexer": "ipython3",
   "version": "3.7.6"
  }
 },
 "nbformat": 4,
 "nbformat_minor": 4
}
