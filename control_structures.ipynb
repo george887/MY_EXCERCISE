{
 "cells": [
  {
   "cell_type": "markdown",
   "metadata": {},
   "source": [
    "# 1.A. prompt the user for a day of the week, print out whether the day is Monday or not"
   ]
  },
  {
   "cell_type": "code",
   "execution_count": 8,
   "metadata": {},
   "outputs": [
    {
     "name": "stdout",
     "output_type": "stream",
     "text": [
      "What day of the week is it? Monday\n",
      "Today is Monday.\n"
     ]
    }
   ],
   "source": [
    "day_of_the_week = input(f\"What day of the week is it? \")\n",
    "if day_of_the_week.lower() == \"monday\":\n",
    "    print(\"Today is Monday.\")\n",
    "else:\n",
    "    print(f\"Today is not Monday, it is {day_of_the_week}.\")"
   ]
  },
  {
   "cell_type": "markdown",
   "metadata": {},
   "source": [
    "# 1.B. prompt the user for a day of the week, print out whether the day is a weekday or a weekend"
   ]
  },
  {
   "cell_type": "code",
   "execution_count": 6,
   "metadata": {},
   "outputs": [
    {
     "name": "stdout",
     "output_type": "stream",
     "text": [
      "What day of the week is it? Saturday\n",
      "Today is Saturday and it is the weekend!\n"
     ]
    }
   ],
   "source": [
    "day_of_the_week = input(f\"What day of the week is it? \")\n",
    "if day_of_the_week.lower() == 'saturday' or day_of_the_week.lower() == 'sunday':\n",
    "    print(f\"Today is {day_of_the_week} and it is the weekend!\")\n",
    "else:\n",
    "    print(f\"Today is {day_of_the_week} and it is a weekday.\")"
   ]
  },
  {
   "cell_type": "code",
   "execution_count": 5,
   "metadata": {},
   "outputs": [
    {
     "name": "stdout",
     "output_type": "stream",
     "text": [
      "What day of the week is it? Saturday\n",
      "Today is Saturday and it is the weekend!\n"
     ]
    }
   ],
   "source": [
    "day_of_the_week = input(f\"What day of the week is it? \")\n",
    "if day_of_the_week.lower() in ['saturday','sunday']:\n",
    "    print(f\"Today is {day_of_the_week} and it is the weekend!\")\n",
    "else:\n",
    "    print(f\"Today is {day_of_the_week} and it is a weekday.\")"
   ]
  },
  {
   "cell_type": "markdown",
   "metadata": {},
   "source": [
    "# 1.C. Create variables and make up values for\n",
    "\n",
    "- the number of hours worked in one week\n",
    "- the hourly rate\n",
    "- how much the week's paycheck will be\n",
    "## Write the python code that calculates the weekly paycheck. You get paid time and a half if you work more than 40 hours"
   ]
  },
  {
   "cell_type": "code",
   "execution_count": 11,
   "metadata": {},
   "outputs": [
    {
     "name": "stdout",
     "output_type": "stream",
     "text": [
      "704\n"
     ]
    }
   ],
   "source": [
    "hrs_worked_in_week = 32\n",
    "hourly_rate = 22\n",
    "paycheck = hrs_worked_in_week * hourly_rate\n",
    "print(paycheck)"
   ]
  },
  {
   "cell_type": "code",
   "execution_count": 14,
   "metadata": {},
   "outputs": [
    {
     "name": "stdout",
     "output_type": "stream",
     "text": [
      "How many hours did you work this week? 35\n",
      "How much do you make an hr? 35\n",
      "This week you made $1225 dollars\n"
     ]
    }
   ],
   "source": [
    "# General equation not including overtime\n",
    "weekly_hrs = input(f'How many hours did you work this week? ')\n",
    "pay_rate = input(f'How much do you make an hr? ')\n",
    "print(f\"This week you made ${int(weekly_hrs)*int(pay_rate)} dollars\")"
   ]
  },
  {
   "cell_type": "code",
   "execution_count": 53,
   "metadata": {
    "scrolled": true
   },
   "outputs": [
    {
     "name": "stdout",
     "output_type": "stream",
     "text": [
      "How many hours did you work this week? 45\n",
      "How much do you make an hr? 50\n",
      "This week you made $2375.0 dollars.\n"
     ]
    }
   ],
   "source": [
    "# Weekly wages including time and a half overtime\n",
    "weekly_hrs = input(f'How many hours did you work this week? ')\n",
    "pay_rate = input(f'How much do you make an hr? ')\n",
    "\n",
    "if int(weekly_hrs) > 40:\n",
    "    new_hrs = int(weekly_hrs) - 40\n",
    "    print(f\"This week you made ${(int(weekly_hrs) - int(new_hrs))* int(pay_rate) + int(new_hrs)*(int(pay_rate)*1.5)} dollars.\")\n",
    "else:\n",
    "    print(f\"This week you made ${int(weekly_hrs)*int(pay_rate)} dollars.\")"
   ]
  },
  {
   "cell_type": "code",
   "execution_count": 22,
   "metadata": {},
   "outputs": [],
   "source": [
    "# Way to make math equations look nice\n",
    "from IPython.display import display, Math, Latex"
   ]
  },
  {
   "cell_type": "code",
   "execution_count": 30,
   "metadata": {
    "scrolled": true
   },
   "outputs": [
    {
     "name": "stdout",
     "output_type": "stream",
     "text": [
      "The math equation is:\n"
     ]
    },
    {
     "data": {
      "text/latex": [
       "$\\displaystyle y = \\sqrt5x+10$"
      ],
      "text/plain": [
       "<IPython.core.display.Math object>"
      ]
     },
     "metadata": {},
     "output_type": "display_data"
    }
   ],
   "source": [
    "a= 5\n",
    "b= 10\n",
    "print(\"The math equation is:\")\n",
    "display(Math(f\"y = \\sqrt{a}x+{b}\"))"
   ]
  },
  {
   "cell_type": "code",
   "execution_count": 31,
   "metadata": {},
   "outputs": [
    {
     "data": {
      "text/latex": [
       "$\\displaystyle y = 5x^2+10$"
      ],
      "text/plain": [
       "<IPython.core.display.Math object>"
      ]
     },
     "metadata": {},
     "output_type": "display_data"
    }
   ],
   "source": [
    "display(Math(f\"y = {a}x^2+{b}\"))"
   ]
  },
  {
   "cell_type": "markdown",
   "metadata": {},
   "source": [
    "## While Loops\n",
    "\n",
    "- Create an integer variable i with a value of 5.\n",
    "- Create a while loop that runs so long as i is less than or equal to 15\n",
    "- Each loop iteration, output the current value of i, then increment i by one.\n",
    "Your output should look like this:\n",
    "5\n",
    "6\n",
    "7\n",
    "8\n",
    "9\n",
    "10\n",
    "11\n",
    "12\n",
    "13\n",
    "14\n",
    "15"
   ]
  },
  {
   "cell_type": "code",
   "execution_count": 60,
   "metadata": {},
   "outputs": [
    {
     "name": "stdout",
     "output_type": "stream",
     "text": [
      "5\n",
      "6\n",
      "7\n",
      "8\n",
      "9\n",
      "10\n",
      "11\n",
      "12\n",
      "13\n",
      "14\n",
      "15\n"
     ]
    }
   ],
   "source": [
    "i = 5\n",
    "while i <= 15:\n",
    "    print(i)\n",
    "    i = i+1"
   ]
  },
  {
   "cell_type": "markdown",
   "metadata": {},
   "source": [
    "# Create a while loop that will count by 2's starting with 0 and ending at 100. Follow each number with a new line."
   ]
  },
  {
   "cell_type": "code",
   "execution_count": 65,
   "metadata": {},
   "outputs": [
    {
     "name": "stdout",
     "output_type": "stream",
     "text": [
      "2\n",
      "4\n",
      "6\n",
      "8\n",
      "10\n",
      "12\n",
      "14\n",
      "16\n",
      "18\n",
      "20\n",
      "22\n",
      "24\n",
      "26\n",
      "28\n",
      "30\n",
      "32\n",
      "34\n",
      "36\n",
      "38\n",
      "40\n",
      "42\n",
      "44\n",
      "46\n",
      "48\n",
      "50\n",
      "52\n",
      "54\n",
      "56\n",
      "58\n",
      "60\n",
      "62\n",
      "64\n",
      "66\n",
      "68\n",
      "70\n",
      "72\n",
      "74\n",
      "76\n",
      "78\n",
      "80\n",
      "82\n",
      "84\n",
      "86\n",
      "88\n",
      "90\n",
      "92\n",
      "94\n",
      "96\n",
      "98\n",
      "100\n"
     ]
    }
   ],
   "source": [
    "i=2\n",
    "while i >0 and i <=100:\n",
    "    print(i)\n",
    "    i = i+2"
   ]
  },
  {
   "cell_type": "markdown",
   "metadata": {},
   "source": [
    "# Alter your loop to count backwards by 5's from 100 to -10."
   ]
  },
  {
   "cell_type": "code",
   "execution_count": 66,
   "metadata": {},
   "outputs": [
    {
     "name": "stdout",
     "output_type": "stream",
     "text": [
      "100\n",
      "95\n",
      "90\n",
      "85\n",
      "80\n",
      "75\n",
      "70\n",
      "65\n",
      "60\n",
      "55\n",
      "50\n",
      "45\n",
      "40\n",
      "35\n",
      "30\n",
      "25\n",
      "20\n",
      "15\n",
      "10\n",
      "5\n",
      "0\n",
      "-5\n",
      "-10\n"
     ]
    }
   ],
   "source": [
    "i = 100\n",
    "while i >= -10 and i <=100:\n",
    "    print(i)\n",
    "    i = i-5"
   ]
  },
  {
   "cell_type": "markdown",
   "metadata": {},
   "source": [
    "# Create a while loop that starts at 2, and displays the number squared on each line while the number is less than 1,000,000. Output should equal:"
   ]
  },
  {
   "cell_type": "code",
   "execution_count": null,
   "metadata": {},
   "outputs": [],
   "source": []
  }
 ],
 "metadata": {
  "kernelspec": {
   "display_name": "Python 3",
   "language": "python",
   "name": "python3"
  },
  "language_info": {
   "codemirror_mode": {
    "name": "ipython",
    "version": 3
   },
   "file_extension": ".py",
   "mimetype": "text/x-python",
   "name": "python",
   "nbconvert_exporter": "python",
   "pygments_lexer": "ipython3",
   "version": "3.7.9"
  }
 },
 "nbformat": 4,
 "nbformat_minor": 4
}
