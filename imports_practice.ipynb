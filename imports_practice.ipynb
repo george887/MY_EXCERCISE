{
 "cells": [
  {
   "cell_type": "code",
   "execution_count": 1,
   "metadata": {},
   "outputs": [],
   "source": [
    "import function_exercises"
   ]
  },
  {
   "cell_type": "code",
   "execution_count": 2,
   "metadata": {},
   "outputs": [
    {
     "data": {
      "text/plain": [
       "True"
      ]
     },
     "execution_count": 2,
     "metadata": {},
     "output_type": "execute_result"
    }
   ],
   "source": [
    "# Import and test 3 of the functions from your functions exercise file.\n",
    "# Import each function in a different way:\n",
    "# import the module and refer to the function with the . syntax\n",
    "function_exercises.is_vowel(\"E\")"
   ]
  },
  {
   "cell_type": "code",
   "execution_count": 4,
   "metadata": {},
   "outputs": [],
   "source": [
    "# use from to import the function directly\n",
    "from function_exercises import is_consonant"
   ]
  },
  {
   "cell_type": "code",
   "execution_count": 5,
   "metadata": {},
   "outputs": [
    {
     "data": {
      "text/plain": [
       "False"
      ]
     },
     "execution_count": 5,
     "metadata": {},
     "output_type": "execute_result"
    }
   ],
   "source": [
    "is_consonant(\"E\")"
   ]
  },
  {
   "cell_type": "code",
   "execution_count": 6,
   "metadata": {},
   "outputs": [
    {
     "data": {
      "text/plain": [
       "'Hello'"
      ]
     },
     "execution_count": 6,
     "metadata": {},
     "output_type": "execute_result"
    }
   ],
   "source": [
    "# use from and give the function a different name\n",
    "from function_exercises import cap_first_letter_word as first_letter_cap\n",
    "first_letter_cap(\"hello\")"
   ]
  },
  {
   "cell_type": "code",
   "execution_count": 7,
   "metadata": {},
   "outputs": [],
   "source": [
    "# For the following exercises, read about and use the itertools module from the standard library to help you \n",
    "# solve the problem.\n",
    "import itertools"
   ]
  },
  {
   "cell_type": "code",
   "execution_count": 11,
   "metadata": {},
   "outputs": [
    {
     "data": {
      "text/plain": [
       "[('a', '1'),\n",
       " ('a', '2'),\n",
       " ('a', '3'),\n",
       " ('b', '1'),\n",
       " ('b', '2'),\n",
       " ('b', '3'),\n",
       " ('c', '1'),\n",
       " ('c', '2'),\n",
       " ('c', '3')]"
      ]
     },
     "execution_count": 11,
     "metadata": {},
     "output_type": "execute_result"
    }
   ],
   "source": [
    "# How many different ways can you combine the letters from \"abc\" with the numbers 1, 2, and 3?\n",
    "list1 = [\"a\",\"b\",\"c\"]\n",
    "list2 = [\"1\",\"2\",\"3\"]\n",
    "list3 = list(itertools.product(list1,list2))\n",
    "list3"
   ]
  },
  {
   "cell_type": "code",
   "execution_count": 12,
   "metadata": {},
   "outputs": [
    {
     "data": {
      "text/plain": [
       "9"
      ]
     },
     "execution_count": 12,
     "metadata": {},
     "output_type": "execute_result"
    }
   ],
   "source": [
    "# length of list\n",
    "len(list3)"
   ]
  },
  {
   "cell_type": "code",
   "execution_count": 20,
   "metadata": {},
   "outputs": [
    {
     "data": {
      "text/plain": [
       "[('1', '2', '3'), ('1', '2', '4'), ('1', '3', '4'), ('2', '3', '4')]"
      ]
     },
     "execution_count": 20,
     "metadata": {},
     "output_type": "execute_result"
    }
   ],
   "source": [
    "# How many different ways can you combine two of the letters from \"abcd\"?\n",
    "# Use combinations(list, x many per combo)\n",
    "list0 = [\"1\",\"2\",\"3\",\"4\"]\n",
    "list4 = list(itertools.combinations(list0,3))\n",
    "list4"
   ]
  },
  {
   "cell_type": "code",
   "execution_count": 23,
   "metadata": {},
   "outputs": [
    {
     "data": {
      "text/plain": [
       "[('1', '2', '3', '4'),\n",
       " ('1', '2', '4', '3'),\n",
       " ('1', '3', '2', '4'),\n",
       " ('1', '3', '4', '2'),\n",
       " ('1', '4', '2', '3'),\n",
       " ('1', '4', '3', '2'),\n",
       " ('2', '1', '3', '4'),\n",
       " ('2', '1', '4', '3'),\n",
       " ('2', '3', '1', '4'),\n",
       " ('2', '3', '4', '1'),\n",
       " ('2', '4', '1', '3'),\n",
       " ('2', '4', '3', '1'),\n",
       " ('3', '1', '2', '4'),\n",
       " ('3', '1', '4', '2'),\n",
       " ('3', '2', '1', '4'),\n",
       " ('3', '2', '4', '1'),\n",
       " ('3', '4', '1', '2'),\n",
       " ('3', '4', '2', '1'),\n",
       " ('4', '1', '2', '3'),\n",
       " ('4', '1', '3', '2'),\n",
       " ('4', '2', '1', '3'),\n",
       " ('4', '2', '3', '1'),\n",
       " ('4', '3', '1', '2'),\n",
       " ('4', '3', '2', '1')]"
      ]
     },
     "execution_count": 23,
     "metadata": {},
     "output_type": "execute_result"
    }
   ],
   "source": [
    "# Used permutations to see all possible outcomes\n",
    "list5 = list(itertools.permutations(list0))\n",
    "list5"
   ]
  },
  {
   "cell_type": "code",
   "execution_count": 24,
   "metadata": {},
   "outputs": [
    {
     "data": {
      "text/plain": [
       "24"
      ]
     },
     "execution_count": 24,
     "metadata": {},
     "output_type": "execute_result"
    }
   ],
   "source": [
    "#finding out how many combinations that is\n",
    "len(list5)"
   ]
  },
  {
   "cell_type": "code",
   "execution_count": 25,
   "metadata": {},
   "outputs": [],
   "source": [
    "# Save this file as profiles.json inside of your exercises directory. Use the load function from the json \n",
    "# module to open this file, it will produce a list of dictionaries. Using this data, write some code that \n",
    "# calculates and outputs the following information:\n",
    "import json"
   ]
  },
  {
   "cell_type": "code",
   "execution_count": 26,
   "metadata": {},
   "outputs": [],
   "source": [
    "#Now create a variable to load the json\n",
    "x = open(\"profiles.json\")"
   ]
  },
  {
   "cell_type": "code",
   "execution_count": 27,
   "metadata": {},
   "outputs": [],
   "source": [
    "#Now opening the function to see the data\n",
    "data = json.load(x)"
   ]
  },
  {
   "cell_type": "code",
   "execution_count": 30,
   "metadata": {},
   "outputs": [
    {
     "data": {
      "text/plain": [
       "19"
      ]
     },
     "execution_count": 30,
     "metadata": {},
     "output_type": "execute_result"
    }
   ],
   "source": [
    "#Total number of users\n",
    "# create a variable and use list comprehension to access the # of users (\"_id\")\n",
    "id_count = [x[\"_id\"] for x in data]\n",
    "id_count\n",
    "len(id_count)"
   ]
  },
  {
   "cell_type": "code",
   "execution_count": 36,
   "metadata": {},
   "outputs": [
    {
     "data": {
      "text/plain": [
       "[True, True, True, True, True, True, True, True, True]"
      ]
     },
     "execution_count": 36,
     "metadata": {},
     "output_type": "execute_result"
    }
   ],
   "source": [
    "#Number of active users. Create variable to see the # of active users. \n",
    "is_active = [x[\"isActive\"] for x in data if x[\"isActive\"] == True]\n",
    "is_active"
   ]
  },
  {
   "cell_type": "code",
   "execution_count": 35,
   "metadata": {},
   "outputs": [
    {
     "data": {
      "text/plain": [
       "9"
      ]
     },
     "execution_count": 35,
     "metadata": {},
     "output_type": "execute_result"
    }
   ],
   "source": [
    "len(is_active)"
   ]
  },
  {
   "cell_type": "code",
   "execution_count": 37,
   "metadata": {},
   "outputs": [
    {
     "data": {
      "text/plain": [
       "[False, False, False, False, False, False, False, False, False, False]"
      ]
     },
     "execution_count": 37,
     "metadata": {},
     "output_type": "execute_result"
    }
   ],
   "source": [
    "# Number of inactive users. \n",
    "inactive_users = [x[\"isActive\"] for x in data if x[\"isActive\"] == False]\n",
    "inactive_users"
   ]
  },
  {
   "cell_type": "code",
   "execution_count": 38,
   "metadata": {},
   "outputs": [
    {
     "data": {
      "text/plain": [
       "10"
      ]
     },
     "execution_count": 38,
     "metadata": {},
     "output_type": "execute_result"
    }
   ],
   "source": [
    "len(inactive_users)"
   ]
  },
  {
   "cell_type": "code",
   "execution_count": 43,
   "metadata": {},
   "outputs": [
    {
     "data": {
      "text/plain": [
       "[2097.02,\n",
       " 3654.02,\n",
       " 1536.02,\n",
       " 3919.64,\n",
       " 3681.39,\n",
       " 1694.42,\n",
       " 1214.1,\n",
       " 2930.31,\n",
       " 1944.15,\n",
       " 2839.22,\n",
       " 2467.31,\n",
       " 3304.99,\n",
       " 3844.42,\n",
       " 3594.99,\n",
       " 2940.24,\n",
       " 3062.41,\n",
       " 3067.82,\n",
       " 2646.76,\n",
       " 2227.79]"
      ]
     },
     "execution_count": 43,
     "metadata": {},
     "output_type": "execute_result"
    }
   ],
   "source": [
    "#Grand total of balances for all users. First convert balance to a float to accomodate for decimals. Then need\n",
    "#to replace $ and , to make it a true float and not string.\n",
    "grand_total_balance = [float(x[\"balance\"].replace(\"$\", \"\").replace(\",\",\"\")) for x in data]\n",
    "grand_total_balance"
   ]
  },
  {
   "cell_type": "code",
   "execution_count": 44,
   "metadata": {},
   "outputs": [
    {
     "data": {
      "text/plain": [
       "52667.02"
      ]
     },
     "execution_count": 44,
     "metadata": {},
     "output_type": "execute_result"
    }
   ],
   "source": [
    "sum(grand_total_balance)"
   ]
  },
  {
   "cell_type": "code",
   "execution_count": 46,
   "metadata": {},
   "outputs": [
    {
     "data": {
      "text/plain": [
       "2771.9484210526316"
      ]
     },
     "execution_count": 46,
     "metadata": {},
     "output_type": "execute_result"
    }
   ],
   "source": [
    "#Average balance per user\n",
    "avg_balance_per_user = sum(grand_total_balance)/len(grand_total_balance)\n",
    "avg_balance_per_user"
   ]
  },
  {
   "cell_type": "code",
   "execution_count": 48,
   "metadata": {},
   "outputs": [
    {
     "data": {
      "text/plain": [
       "1214.1"
      ]
     },
     "execution_count": 48,
     "metadata": {},
     "output_type": "execute_result"
    }
   ],
   "source": [
    "#User with the lowest balance\n",
    "min_balance_user = min(grand_total_balance)\n",
    "min_balance_user"
   ]
  },
  {
   "cell_type": "code",
   "execution_count": 50,
   "metadata": {},
   "outputs": [
    {
     "data": {
      "text/plain": [
       "3919.64"
      ]
     },
     "execution_count": 50,
     "metadata": {},
     "output_type": "execute_result"
    }
   ],
   "source": [
    "# User with the highest balance\n",
    "max_balance_user = max(grand_total_balance)\n",
    "max_balance_user"
   ]
  },
  {
   "cell_type": "code",
   "execution_count": 75,
   "metadata": {},
   "outputs": [
    {
     "data": {
      "text/plain": [
       "['strawberry',\n",
       " 'apple',\n",
       " 'banana',\n",
       " 'banana',\n",
       " 'apple',\n",
       " 'apple',\n",
       " 'banana',\n",
       " 'strawberry',\n",
       " 'strawberry',\n",
       " 'banana',\n",
       " 'strawberry',\n",
       " 'strawberry',\n",
       " 'apple',\n",
       " 'strawberry',\n",
       " 'strawberry',\n",
       " 'banana',\n",
       " 'strawberry',\n",
       " 'banana',\n",
       " 'strawberry']"
      ]
     },
     "execution_count": 75,
     "metadata": {},
     "output_type": "execute_result"
    }
   ],
   "source": [
    "# Most common favorite fruit\n",
    "most_common_fruit = [x[\"favoriteFruit\"] for x in data]\n",
    "most_common_fruit"
   ]
  },
  {
   "cell_type": "code",
   "execution_count": 76,
   "metadata": {},
   "outputs": [],
   "source": [
    "# Easiest way to figure this out is to import statistics and mode.\n",
    "import statistics\n",
    "from statistics import mode"
   ]
  },
  {
   "cell_type": "code",
   "execution_count": 83,
   "metadata": {},
   "outputs": [
    {
     "data": {
      "text/plain": [
       "'strawberry'"
      ]
     },
     "execution_count": 83,
     "metadata": {},
     "output_type": "execute_result"
    }
   ],
   "source": [
    "mode(most_common_fruit)"
   ]
  },
  {
   "cell_type": "code",
   "execution_count": 85,
   "metadata": {},
   "outputs": [
    {
     "data": {
      "text/plain": [
       "9"
      ]
     },
     "execution_count": 85,
     "metadata": {},
     "output_type": "execute_result"
    }
   ],
   "source": [
    "#Have to subtract one as the mode picks the fruit extra\n",
    "len(mode(most_common_fruit))-1"
   ]
  },
  {
   "cell_type": "code",
   "execution_count": 105,
   "metadata": {},
   "outputs": [
    {
     "name": "stdout",
     "output_type": "stream",
     "text": [
      "The most popular fruit was the strawberry with a total count of 9.\n",
      "The least poplular fruit was the apple with a total count of 4.\n"
     ]
    }
   ],
   "source": [
    "# Alternate way to solve. We have strawberry,apple,bananas. create an empty list for each fruit so we can\n",
    "# add to the each list\n",
    "apples = 0\n",
    "bananas = 0\n",
    "strawberries = 0\n",
    "# for loop to see the count of each fruit\n",
    "for x in data:\n",
    "    if x[\"favoriteFruit\"] == \"apple\":\n",
    "        apples += 1\n",
    "    if x[\"favoriteFruit\"] == \"banana\":\n",
    "        bananas += 1\n",
    "    if x[\"favoriteFruit\"] == \"strawberry\":\n",
    "        strawberries += 1\n",
    "#now create a dictionary to refrence my results\n",
    "fruits = [{\"fruit\": \"apple\", \"count\": apples},\n",
    "          {\"fruit\": \"banana\", \"count\": bananas},\n",
    "          {\"fruit\": \"strawberry\", \"count\": strawberries}]\n",
    "#list comprehension to figure out the most common and count & the least common and count.\n",
    "max_fruit = max([x[\"fruit\"] for x in fruits])\n",
    "min_fruit = min([x[\"fruit\"] for x in fruits])\n",
    "max_count = max([x[\"count\"] for x in fruits])\n",
    "min_count = min([x[\"count\"] for x in fruits])\n",
    "print(f\"The most popular fruit was the {max_fruit} with a total count of {max_count}.\")\n",
    "print(f\"The least poplular fruit was the {min_fruit} with a total count of {min_count}.\")\n",
    "\n"
   ]
  },
  {
   "cell_type": "code",
   "execution_count": 108,
   "metadata": {},
   "outputs": [
    {
     "data": {
      "text/plain": [
       "[4, 19, 5, 10, 9, 19, 13, 17, 2, 18, 2, 13, 7, 13, 12, 7, 19, 5, 16]"
      ]
     },
     "execution_count": 108,
     "metadata": {},
     "output_type": "execute_result"
    }
   ],
   "source": [
    "# Total number of unread messages for all users\n",
    "#Have to convert string into interger since we want to count the total of unread messages. In the greeting, it\n",
    "#states \"you have x messages unread\". so .lower() used to account for upper & lower case letters. Then .strip()\n",
    "#used to get rid of all the letters and characters ,.!? and spaces to leave just numbers. Continue with list\n",
    "#continue with list comp with if \"unread in x[greeting] to get the number associated with it.\n",
    "messages = [int(x[\"greeting\"].lower().strip(\"abcdefghijklmnopqrstuvwxyz,.!? \"))\n",
    "            for x in data if \"unread\" in x[\"greeting\"]]\n",
    "messages"
   ]
  },
  {
   "cell_type": "code",
   "execution_count": 111,
   "metadata": {},
   "outputs": [
    {
     "data": {
      "text/plain": [
       "210"
      ]
     },
     "execution_count": 111,
     "metadata": {},
     "output_type": "execute_result"
    }
   ],
   "source": [
    "# total of 210 unread messages\n",
    "sum(messages)"
   ]
  },
  {
   "cell_type": "code",
   "execution_count": 112,
   "metadata": {},
   "outputs": [
    {
     "data": {
      "text/plain": [
       "19"
      ]
     },
     "execution_count": 112,
     "metadata": {},
     "output_type": "execute_result"
    }
   ],
   "source": [
    "# 19 total users with unread messages\n",
    "len(messages)"
   ]
  }
 ],
 "metadata": {
  "kernelspec": {
   "display_name": "Python 3",
   "language": "python",
   "name": "python3"
  },
  "language_info": {
   "codemirror_mode": {
    "name": "ipython",
    "version": 3
   },
   "file_extension": ".py",
   "mimetype": "text/x-python",
   "name": "python",
   "nbconvert_exporter": "python",
   "pygments_lexer": "ipython3",
   "version": "3.7.6"
  }
 },
 "nbformat": 4,
 "nbformat_minor": 4
}
